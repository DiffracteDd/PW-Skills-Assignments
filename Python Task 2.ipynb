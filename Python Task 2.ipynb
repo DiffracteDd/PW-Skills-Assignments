{
 "cells": [
  {
   "cell_type": "markdown",
   "id": "2237068b-2523-4515-8781-9f07fb0a1796",
   "metadata": {},
   "source": [
    "Q1>"
   ]
  },
  {
   "cell_type": "code",
   "execution_count": 1,
   "id": "b17b4aab-5e0c-48f4-8f43-b8570b79af29",
   "metadata": {},
   "outputs": [
    {
     "name": "stdin",
     "output_type": "stream",
     "text": [
      "Enter password ABcd@_@2hT\n"
     ]
    },
    {
     "name": "stdout",
     "output_type": "stream",
     "text": [
      "Valid Password\n"
     ]
    }
   ],
   "source": [
    "i=input(\"Enter password\")\n",
    "l=len(i)\n",
    "s=0\n",
    "c=0\n",
    "n=0\n",
    "sp=0\n",
    "if(l==10):\n",
    "    \n",
    "    for x in i:\n",
    "        if(ord(x)>=65 and ord(x)<=90):\n",
    "            s=s+1\n",
    "        elif(ord(x)>=97 and ord(x)<=122):\n",
    "            c=c+1\n",
    "        elif(ord(x)>=32 and ord(x)<=47):\n",
    "            sp=sp+1\n",
    "        elif(ord(x)>=58 and ord(x)<=64):\n",
    "            sp=sp+1\n",
    "        elif(ord(x)>=91 and ord(x)<=96):\n",
    "            sp=sp+1\n",
    "        elif(ord(x)>=123 and ord(x)<=126):\n",
    "            sp=sp+1\n",
    "        elif (ord(x) in range(48,57)):\n",
    "            n=n+1\n",
    "    if(s>=2 and c>=2 and n>=1 and sp>=3):\n",
    "        print(\"Valid Password\")\n",
    "    else:\n",
    "        print(\"InValid Password\")\n",
    "else:\n",
    "        print(\"InValid Password\")"
   ]
  },
  {
   "cell_type": "markdown",
   "id": "b6677c00-36b9-4d57-8f25-7bc38facc86f",
   "metadata": {},
   "source": [
    "Q2>"
   ]
  },
  {
   "cell_type": "code",
   "execution_count": 2,
   "id": "b537e977-ceab-4709-a82e-d608f7d50256",
   "metadata": {},
   "outputs": [
    {
     "name": "stdin",
     "output_type": "stream",
     "text": [
      "Enter string Abder\n",
      "Enter letter to be checked A\n"
     ]
    },
    {
     "name": "stdout",
     "output_type": "stream",
     "text": [
      "Condition fulfilled\n"
     ]
    }
   ],
   "source": [
    "#1>check whether the string starts with a particular letter\n",
    "x=input(\"Enter string\")\n",
    "c=input(\"Enter letter to be checked\")\n",
    "if(x[0]==c):\n",
    "    print(\"Condition fulfilled\")\n",
    "else:\n",
    "    print(\"Condition unfulfilled\")"
   ]
  },
  {
   "cell_type": "code",
   "execution_count": 3,
   "id": "afed2e08-fb53-4c3b-b4fa-d0c5bf7e60a0",
   "metadata": {},
   "outputs": [
    {
     "name": "stdin",
     "output_type": "stream",
     "text": [
      "Enter string 123\n"
     ]
    },
    {
     "name": "stdout",
     "output_type": "stream",
     "text": [
      "True\n"
     ]
    }
   ],
   "source": [
    "#2>check whether the string is numeric\n",
    "x=input(\"Enter string\")\n",
    "p=x.isnumeric()\n",
    "print(p)"
   ]
  },
  {
   "cell_type": "code",
   "execution_count": 4,
   "id": "a8a195d1-daa1-4230-ad03-ba913b815fd4",
   "metadata": {},
   "outputs": [
    {
     "name": "stdout",
     "output_type": "stream",
     "text": [
      "[('grapes', 100), ('mango', 99), ('orange', 80)]\n"
     ]
    }
   ],
   "source": [
    "#3>sorting a list\n",
    "l=[(\"mango\",99),(\"orange\",80),(\"grapes\",100)]\n",
    "l.sort()\n",
    "print(l)\n"
   ]
  },
  {
   "cell_type": "code",
   "execution_count": 5,
   "id": "fa867df2-5127-4003-bad7-cd8cb1e0c40d",
   "metadata": {},
   "outputs": [
    {
     "data": {
      "text/plain": [
       "[1, 4, 9, 16, 25, 36, 49, 64, 81, 100]"
      ]
     },
     "execution_count": 5,
     "metadata": {},
     "output_type": "execute_result"
    }
   ],
   "source": [
    "#4>find squares of numbers from 1 to 10\n",
    "l=[1,2,3,4,5,6,7,8,9,10]\n",
    "list(map(lambda x: x**2,l))"
   ]
  },
  {
   "cell_type": "code",
   "execution_count": 6,
   "id": "b4ae7944-7acd-498c-8de5-f5216a8880ee",
   "metadata": {},
   "outputs": [
    {
     "name": "stdout",
     "output_type": "stream",
     "text": [
      "1.0\n",
      "1.2599210498948732\n",
      "1.4422495703074083\n",
      "1.5874010519681994\n",
      "1.7099759466766968\n",
      "1.8171205928321397\n",
      "1.912931182772389\n",
      "2.0\n",
      "2.080083823051904\n",
      "2.154434690031884\n"
     ]
    }
   ],
   "source": [
    "#5>find cube root of functions form 1 to 10\n",
    "l=[1,2,3,4,5,6,7,8,9,10]\n",
    "def cuberoot(x):\n",
    "    x=x**(1/3)\n",
    "    print(x)\n",
    "for i in l:\n",
    "    cuberoot(i)"
   ]
  },
  {
   "cell_type": "code",
   "execution_count": 7,
   "id": "d61b45e5-6ff1-438c-87a5-bdd8f07b382d",
   "metadata": {},
   "outputs": [
    {
     "data": {
      "text/plain": [
       "[1.0,\n",
       " 1.2599210498948732,\n",
       " 1.4422495703074083,\n",
       " 1.5874010519681994,\n",
       " 1.7099759466766968,\n",
       " 1.8171205928321397,\n",
       " 1.912931182772389,\n",
       " 2.0,\n",
       " 2.080083823051904,\n",
       " 2.154434690031884]"
      ]
     },
     "execution_count": 7,
     "metadata": {},
     "output_type": "execute_result"
    }
   ],
   "source": [
    "l=[1,2,3,4,5,6,7,8,9,10]\n",
    "list(map(lambda x: x**(1/3),l))"
   ]
  },
  {
   "cell_type": "code",
   "execution_count": 8,
   "id": "a06c01ec-e2d4-4a06-b7c4-45abdd6ba7a2",
   "metadata": {},
   "outputs": [
    {
     "name": "stdin",
     "output_type": "stream",
     "text": [
      "enter a number 12\n"
     ]
    },
    {
     "name": "stdout",
     "output_type": "stream",
     "text": [
      "even number\n"
     ]
    }
   ],
   "source": [
    "#6>check if a given number is even\n",
    "x=int(input(\"enter a number\"))\n",
    "if (x%2==0):\n",
    "    print(\"even number\")\n",
    "else:\n",
    "    print(\"odd number\")"
   ]
  },
  {
   "cell_type": "code",
   "execution_count": 9,
   "id": "b94c4c84-abbf-435f-a24d-a1e1e7b929bf",
   "metadata": {},
   "outputs": [
    {
     "data": {
      "text/plain": [
       "[1, 3, 5, 7, 9]"
      ]
     },
     "execution_count": 9,
     "metadata": {},
     "output_type": "execute_result"
    }
   ],
   "source": [
    "#7>filter odd number from the last\n",
    "l=[1,2,3,4,5,6,7,8,9]\n",
    "list(filter(lambda x: x%2!=0,l))"
   ]
  },
  {
   "cell_type": "code",
   "execution_count": 12,
   "id": "3bf38595-13ee-4193-af74-7753fac3c1a2",
   "metadata": {},
   "outputs": [
    {
     "name": "stdout",
     "output_type": "stream",
     "text": [
      "[-5, -5, -5, -5, -5, -5, -5, -5, -5, -5, -5, 0]\n"
     ]
    }
   ],
   "source": [
    "#8>sort list of integers\n",
    "l=[1,2,3,4,5,6,-1,-2,-3,-4,-5,0]\n",
    "for i in range(0,12):\n",
    "    for j in range(0,i):\n",
    "        if(l[j]>l[i]):\n",
    "            a=l[j]\n",
    "            l[j]=l[i]\n",
    "            l[i]=l[j]\n",
    "print(l)"
   ]
  },
  {
   "cell_type": "code",
   "execution_count": null,
   "id": "bffc1ffd-6561-4e26-945d-b674651c4fd2",
   "metadata": {},
   "outputs": [],
   "source": []
  }
 ],
 "metadata": {
  "kernelspec": {
   "display_name": "Python 3 (ipykernel)",
   "language": "python",
   "name": "python3"
  },
  "language_info": {
   "codemirror_mode": {
    "name": "ipython",
    "version": 3
   },
   "file_extension": ".py",
   "mimetype": "text/x-python",
   "name": "python",
   "nbconvert_exporter": "python",
   "pygments_lexer": "ipython3",
   "version": "3.10.8"
  }
 },
 "nbformat": 4,
 "nbformat_minor": 5
}
