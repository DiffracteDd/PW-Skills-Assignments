{
 "cells": [
  {
   "cell_type": "markdown",
   "id": "0ebef98f-ba50-48f3-8293-b943734f497b",
   "metadata": {},
   "source": [
    "Q1> An exception is a logical error in the program for which there is no syntactical mistake in the code but still the code won't execute owing to the logical error.\n",
    "        \n",
    "        Exceptions are logical errors , for which no error code will be generated during execution but still the program won't execute properly. Whereas syntactical errors are those for which the compiler will generate an error code."
   ]
  },
  {
   "cell_type": "markdown",
   "id": "48494162-a1a8-4049-990e-cd881556868c",
   "metadata": {},
   "source": [
    "Q2> When an exception is not handled , the program will not execute properly but it will not generate any error code.\n",
    "Eg : Zero division error."
   ]
  },
  {
   "cell_type": "code",
   "execution_count": 2,
   "id": "8d86210b-9e2c-4c7d-9e51-da46bf691920",
   "metadata": {},
   "outputs": [
    {
     "ename": "ZeroDivisionError",
     "evalue": "division by zero",
     "output_type": "error",
     "traceback": [
      "\u001b[0;31m---------------------------------------------------------------------------\u001b[0m",
      "\u001b[0;31mZeroDivisionError\u001b[0m                         Traceback (most recent call last)",
      "Cell \u001b[0;32mIn[2], line 2\u001b[0m\n\u001b[1;32m      1\u001b[0m a\u001b[38;5;241m=\u001b[39m\u001b[38;5;241m10\u001b[39m;\n\u001b[0;32m----> 2\u001b[0m \u001b[38;5;28mprint\u001b[39m(\u001b[43ma\u001b[49m\u001b[38;5;241;43m/\u001b[39;49m\u001b[38;5;241;43m0\u001b[39;49m)\n",
      "\u001b[0;31mZeroDivisionError\u001b[0m: division by zero"
     ]
    }
   ],
   "source": [
    "a=10;\n",
    "print(a/0)"
   ]
  },
  {
   "cell_type": "code",
   "execution_count": null,
   "id": "cbf8facb-dff7-4fab-bb1f-45026479d541",
   "metadata": {},
   "outputs": [],
   "source": []
  },
  {
   "cell_type": "markdown",
   "id": "a9b783e7-475a-44e2-90c5-4c8394035961",
   "metadata": {},
   "source": [
    "Q3> The \"try\" and \"except\" blocks are used to catch and handle the exceptions in Python.\n"
   ]
  },
  {
   "cell_type": "code",
   "execution_count": 3,
   "id": "9de2b48c-4166-4921-8e32-9f39a939ab01",
   "metadata": {},
   "outputs": [
    {
     "name": "stdout",
     "output_type": "stream",
     "text": [
      "try excuted without exception\n"
     ]
    }
   ],
   "source": [
    "try :\n",
    "    f=open(\"test.txt\",\"w\")\n",
    "    f.write(\"This is my message\")\n",
    "except Exception as e:\n",
    "    print(\"There is some issue with my code \")\n",
    "else:\n",
    "    f.close()\n",
    "    print(\"try excuted without exception\")\n",
    "    "
   ]
  },
  {
   "cell_type": "code",
   "execution_count": null,
   "id": "851d0995-252a-4da0-a407-04542b08589e",
   "metadata": {},
   "outputs": [],
   "source": []
  },
  {
   "cell_type": "markdown",
   "id": "88a94e06-68ed-47ba-a554-0ddb71ddb36a",
   "metadata": {},
   "source": [
    "Q4> a) \"try\" block is used to write the code which may contain the exception. The \"else\" block is executed if there is no error in the try block and the exception block is not required. "
   ]
  },
  {
   "cell_type": "markdown",
   "id": "2a57bd69-7d72-4831-814d-2cf81722e123",
   "metadata": {},
   "source": [
    "b) The \"finally\" block will always execute itself independent of whether the exception has been handled or not. "
   ]
  },
  {
   "cell_type": "markdown",
   "id": "e1080884-4ccf-4daa-b9c6-53cbc6537539",
   "metadata": {},
   "source": [
    "c) Creating own class and Inheriting Exception class \n",
    "creating a constructor that will take a message when an object of the  class is created.\n",
    "Raise is a reserved keyword that calls custom class. "
   ]
  },
  {
   "cell_type": "code",
   "execution_count": null,
   "id": "226418dc-49c5-425e-a32e-8787727c93f4",
   "metadata": {},
   "outputs": [],
   "source": []
  },
  {
   "cell_type": "markdown",
   "id": "de7c2cb5-8c4e-4654-b192-9049cdae5118",
   "metadata": {},
   "source": [
    "Q5> In cases when the exception is for the user and  not for the system . In such cases custom exception is used\n"
   ]
  },
  {
   "cell_type": "code",
   "execution_count": 8,
   "id": "a6d71570-0796-4177-afd2-64965d467002",
   "metadata": {},
   "outputs": [
    {
     "name": "stdin",
     "output_type": "stream",
     "text": [
      "enter age -12\n"
     ]
    },
    {
     "name": "stdout",
     "output_type": "stream",
     "text": [
      "age should not be lessser than 0\n"
     ]
    }
   ],
   "source": [
    "class validateage(Exception):\n",
    "    def __init__(self,msg):\n",
    "        self.msg=msg\n",
    "\n",
    "def validate_age(age):\n",
    "    if age < 0:\n",
    "        raise validateage(\"age should not be lessser than 0\")\n",
    "    elif age > 200:\n",
    "        raise validateage(\"age should not be so high\")\n",
    "    else:\n",
    "        print(\"age is valid\")\n",
    "\n",
    "try:\n",
    "    age=int(input(\"enter age\"))\n",
    "    validate_age(age)\n",
    "except validateage as e:\n",
    "    print(e)"
   ]
  },
  {
   "cell_type": "code",
   "execution_count": null,
   "id": "63085e06-6dc4-46ad-aaf6-362f7c4b8a21",
   "metadata": {},
   "outputs": [],
   "source": []
  },
  {
   "cell_type": "code",
   "execution_count": null,
   "id": "25219f42-19a2-4222-83a1-fb7dec02112d",
   "metadata": {},
   "outputs": [],
   "source": [
    "Q6>"
   ]
  }
 ],
 "metadata": {
  "kernelspec": {
   "display_name": "Python 3 (ipykernel)",
   "language": "python",
   "name": "python3"
  },
  "language_info": {
   "codemirror_mode": {
    "name": "ipython",
    "version": 3
   },
   "file_extension": ".py",
   "mimetype": "text/x-python",
   "name": "python",
   "nbconvert_exporter": "python",
   "pygments_lexer": "ipython3",
   "version": "3.10.8"
  }
 },
 "nbformat": 4,
 "nbformat_minor": 5
}
