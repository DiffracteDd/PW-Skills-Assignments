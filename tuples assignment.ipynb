{
 "cells": [
  {
   "cell_type": "raw",
   "id": "b536a10c-034f-4a6f-b959-3e743fc4ebff",
   "metadata": {},
   "source": [
    "1> Tuples are ordered , unchangeable and allow duplicate elements. \n",
    "        Tuples are immutable ie. the values inside the tuple cannot be altered."
   ]
  },
  {
   "cell_type": "raw",
   "id": "6a637e17-a8a7-46b8-9b14-65cb67992d83",
   "metadata": {},
   "source": [
    "2> The two tuple methods in python are index and count. The index method gives the position of an element inside the tuple whereas the cound method tells us how many times an element is present inside a tuple.\n",
    "eg- d1=(1,2,3,4,5,1)\n",
    "    d1.index(1) -> O/P -> 0\n",
    "    d1.count(1) -> O/P ->2\n",
    "Tuples are immutable hence they have only two inbuilt methods, on the orher hand lists are mutable and hance have a lot of inbuilt methods.    \n",
    "\n"
   ]
  },
  {
   "cell_type": "raw",
   "id": "ec07e972-3544-477b-8ac5-1750c0dce08f",
   "metadata": {},
   "source": [
    "3> Sets in python do not allow duplicate items."
   ]
  },
  {
   "cell_type": "code",
   "execution_count": 8,
   "id": "97710504-deb1-4ea2-b163-024ac69de65b",
   "metadata": {},
   "outputs": [],
   "source": [
    "list=[1, 1, 1, 2, 1, 3, 1, 4, 2, 1, 2, 2, 2, 3, 2, 4, 3, 1, 3, 2, 3, 3, 3, 4, 4, 1, 4, 2, 4, 3, 4, 4]"
   ]
  },
  {
   "cell_type": "code",
   "execution_count": 11,
   "id": "2f874c06-ca1c-47f7-aa34-0a644275f9d1",
   "metadata": {},
   "outputs": [
    {
     "data": {
      "text/plain": [
       "{1, 2, 3, 4}"
      ]
     },
     "execution_count": 11,
     "metadata": {},
     "output_type": "execute_result"
    }
   ],
   "source": [
    "set(list)"
   ]
  },
  {
   "cell_type": "raw",
   "id": "107e64bc-f116-4837-81e9-1fb58da65adc",
   "metadata": {},
   "source": [
    "4> The union() method creates and returns a new set, containing all the elements ( distinct ) present in all the iterables whereas update() method updates the set on which this method is called with all the distinct elements present in all the iterables."
   ]
  },
  {
   "cell_type": "code",
   "execution_count": 12,
   "id": "f304079d-f3b9-4c92-a1de-d026841423c4",
   "metadata": {},
   "outputs": [],
   "source": [
    "s1={1,2,3,4}\n",
    "s2={2,3,4,5,6}"
   ]
  },
  {
   "cell_type": "code",
   "execution_count": 22,
   "id": "13db1704-c7b2-47f2-bae6-99f50a1ffcfd",
   "metadata": {},
   "outputs": [
    {
     "data": {
      "text/plain": [
       "{1, 2, 3, 4, 5, 6}"
      ]
     },
     "execution_count": 22,
     "metadata": {},
     "output_type": "execute_result"
    }
   ],
   "source": [
    "s1.union(s2)"
   ]
  },
  {
   "cell_type": "code",
   "execution_count": 19,
   "id": "d605939a-bf6c-4d50-8079-0e6f0b52a866",
   "metadata": {},
   "outputs": [],
   "source": [
    "s1.update(s2)"
   ]
  },
  {
   "cell_type": "code",
   "execution_count": 21,
   "id": "2d42bc00-3118-456e-bd29-ec32646b1059",
   "metadata": {},
   "outputs": [
    {
     "data": {
      "text/plain": [
       "{1, 2, 3, 4, 5, 6}"
      ]
     },
     "execution_count": 21,
     "metadata": {},
     "output_type": "execute_result"
    }
   ],
   "source": [
    "s1"
   ]
  },
  {
   "cell_type": "raw",
   "id": "825ed9b6-db2d-4056-957b-cf9ff63584d7",
   "metadata": {},
   "source": [
    "5> Dictionaries are used to store data values in key:value pairs. \n",
    "eg :-"
   ]
  },
  {
   "cell_type": "code",
   "execution_count": 23,
   "id": "f25d35b6-fd85-40a5-b36c-91052c2b2841",
   "metadata": {},
   "outputs": [],
   "source": [
    "d1={\"k1\":\"abcd\",\"k2\":1,\"k3\":\"soumik\"}"
   ]
  },
  {
   "cell_type": "code",
   "execution_count": 24,
   "id": "a6beabb0-39d4-4ebd-bdb2-9bac76b38d2f",
   "metadata": {},
   "outputs": [
    {
     "data": {
      "text/plain": [
       "dict"
      ]
     },
     "execution_count": 24,
     "metadata": {},
     "output_type": "execute_result"
    }
   ],
   "source": [
    "type(d1)"
   ]
  },
  {
   "cell_type": "raw",
   "id": "c63befa0-29ec-48b9-91e0-83e7264f5bf7",
   "metadata": {},
   "source": [
    "A dictionary is a collection which is ordered, changeable and do not allow duplicates."
   ]
  },
  {
   "cell_type": "raw",
   "id": "10fe7aab-5af8-4fd1-87f5-c7e7a5d5c5b8",
   "metadata": {},
   "source": [
    "6> Yes, we can create a nested dictionary.\n",
    "eg of nested dictionary :-"
   ]
  },
  {
   "cell_type": "code",
   "execution_count": 26,
   "id": "fe6c29ac-24e8-4e51-be7b-f2fc62a36729",
   "metadata": {},
   "outputs": [],
   "source": [
    "people = {1: {'name': 'Soumik', 'age': '20'},\n",
    "          2: {'name': 'Soumik2', 'age': '20'}}"
   ]
  },
  {
   "cell_type": "code",
   "execution_count": 27,
   "id": "b6444f4c-ce0c-4c66-b42b-1507bd570da6",
   "metadata": {},
   "outputs": [
    {
     "data": {
      "text/plain": [
       "dict"
      ]
     },
     "execution_count": 27,
     "metadata": {},
     "output_type": "execute_result"
    }
   ],
   "source": [
    "type(people)"
   ]
  },
  {
   "cell_type": "raw",
   "id": "01f0f19f-e4c4-4158-be1a-753668220fc5",
   "metadata": {},
   "source": [
    "7> Updating the dictionary:-"
   ]
  },
  {
   "cell_type": "code",
   "execution_count": 28,
   "id": "6aa3f1cf-e97d-44d3-9bd9-820b8fbbc048",
   "metadata": {},
   "outputs": [],
   "source": [
    "dict1 = {'language' : 'Python', 'course': 'Data Science Masters'}"
   ]
  },
  {
   "cell_type": "code",
   "execution_count": 33,
   "id": "a7166bde-8d9f-42d5-865e-a9a159176cec",
   "metadata": {},
   "outputs": [
    {
     "data": {
      "text/plain": [
       "{'language': 'Python',\n",
       " 'course': 'Data Science Masters',\n",
       " 'topics': \"['Python', 'Machine Learning’, 'Deep Learning']\"}"
      ]
     },
     "execution_count": 33,
     "metadata": {},
     "output_type": "execute_result"
    }
   ],
   "source": [
    "dict1.setdefault(\"topics\",\"['Python', 'Machine Learning’, 'Deep Learning']\")\n",
    "dict1"
   ]
  },
  {
   "cell_type": "raw",
   "id": "320903bb-7100-4fdb-9118-dbe15a6f8ed9",
   "metadata": {},
   "source": [
    "8> The main view objects of dictionary in python are keys, values and items."
   ]
  },
  {
   "cell_type": "code",
   "execution_count": 34,
   "id": "bd3ae630-6667-40dc-9ccf-7f900eafed96",
   "metadata": {},
   "outputs": [],
   "source": [
    "dict1 = {'Sport': 'Cricket' , 'Teams': ['India', 'Australia', 'England', 'South Africa', 'Sri Lanka', 'New Zealand']}"
   ]
  },
  {
   "cell_type": "code",
   "execution_count": 35,
   "id": "b61b80bf-e3cb-4dfd-9989-f97f0622a83f",
   "metadata": {},
   "outputs": [
    {
     "data": {
      "text/plain": [
       "dict_keys(['Sport', 'Teams'])"
      ]
     },
     "execution_count": 35,
     "metadata": {},
     "output_type": "execute_result"
    }
   ],
   "source": [
    "dict1.keys()"
   ]
  },
  {
   "cell_type": "code",
   "execution_count": 36,
   "id": "a66a63ca-e855-457b-a6c9-b9d764ea7b69",
   "metadata": {},
   "outputs": [
    {
     "data": {
      "text/plain": [
       "dict_values(['Cricket', ['India', 'Australia', 'England', 'South Africa', 'Sri Lanka', 'New Zealand']])"
      ]
     },
     "execution_count": 36,
     "metadata": {},
     "output_type": "execute_result"
    }
   ],
   "source": [
    "dict1.values()"
   ]
  },
  {
   "cell_type": "code",
   "execution_count": 37,
   "id": "db801a5f-bcc5-4755-b172-14eefed1eba1",
   "metadata": {},
   "outputs": [
    {
     "data": {
      "text/plain": [
       "dict_items([('Sport', 'Cricket'), ('Teams', ['India', 'Australia', 'England', 'South Africa', 'Sri Lanka', 'New Zealand'])])"
      ]
     },
     "execution_count": 37,
     "metadata": {},
     "output_type": "execute_result"
    }
   ],
   "source": [
    "dict1.items()"
   ]
  },
  {
   "cell_type": "code",
   "execution_count": null,
   "id": "c119ced5-b730-4ab6-b50b-2ff8667495e9",
   "metadata": {},
   "outputs": [],
   "source": []
  }
 ],
 "metadata": {
  "kernelspec": {
   "display_name": "Python 3 (ipykernel)",
   "language": "python",
   "name": "python3"
  },
  "language_info": {
   "codemirror_mode": {
    "name": "ipython",
    "version": 3
   },
   "file_extension": ".py",
   "mimetype": "text/x-python",
   "name": "python",
   "nbconvert_exporter": "python",
   "pygments_lexer": "ipython3",
   "version": "3.10.8"
  }
 },
 "nbformat": 4,
 "nbformat_minor": 5
}
