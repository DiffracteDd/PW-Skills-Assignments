{
 "cells": [
  {
   "cell_type": "markdown",
   "id": "3f47b15f-e57f-49f8-9530-caf0d50fa616",
   "metadata": {},
   "source": [
    "1> API stands for Application Interface. It is a set of definitions and protocols used to build and integrate application software. \n",
    "    Google Maps API is one of the most commonly used API in real life."
   ]
  },
  {
   "cell_type": "markdown",
   "id": "b4cafe31-0155-4eb0-9ed0-99835276747e",
   "metadata": {},
   "source": [
    "2> Disadvantages :-\n",
    "\n",
    "\n",
    "    a) Cost\n",
    "    b) Security Exposure\n",
    "\n",
    "\n",
    "    Advantages:-\n",
    "    a) lightweight\n",
    "    b) new functionality"
   ]
  },
  {
   "cell_type": "markdown",
   "id": "e2343497-da53-4e34-93f1-78bd6829cf59",
   "metadata": {},
   "source": [
    "3> Web API is an extensible framework for building HTTP based services that can be accessed in different applications on different platforms such as web, windows, mobile etc.\n",
    "\n",
    "    API is an interface that exposes an application's data to outside software, whereas web applications are one type of API with stricter requirements"
   ]
  },
  {
   "cell_type": "code",
   "execution_count": null,
   "id": "eda5654d-44c1-4c92-a930-f48814298a81",
   "metadata": {},
   "outputs": [],
   "source": []
  }
 ],
 "metadata": {
  "kernelspec": {
   "display_name": "Python 3 (ipykernel)",
   "language": "python",
   "name": "python3"
  },
  "language_info": {
   "codemirror_mode": {
    "name": "ipython",
    "version": 3
   },
   "file_extension": ".py",
   "mimetype": "text/x-python",
   "name": "python",
   "nbconvert_exporter": "python",
   "pygments_lexer": "ipython3",
   "version": "3.10.8"
  }
 },
 "nbformat": 4,
 "nbformat_minor": 5
}
