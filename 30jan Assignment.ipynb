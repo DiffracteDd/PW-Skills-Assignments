{
 "cells": [
  {
   "cell_type": "markdown",
   "id": "1754b18c-b78a-4fab-abc6-dec43e01373b",
   "metadata": {},
   "source": [
    "Q1>"
   ]
  },
  {
   "cell_type": "code",
   "execution_count": 1,
   "id": "cb3fec2a-edf1-4ece-8932-18eb7edac4fa",
   "metadata": {},
   "outputs": [
    {
     "name": "stdin",
     "output_type": "stream",
     "text": [
      "enter percentage 21\n"
     ]
    },
    {
     "name": "stdout",
     "output_type": "stream",
     "text": [
      "D\n"
     ]
    }
   ],
   "source": [
    "p=int(input(\"enter percentage\"))\n",
    "if(p>90):\n",
    "    print(\"A\")\n",
    "elif(p<=90 and p>80):\n",
    "    print(\"B\")\n",
    "elif(p<=80 and p>60):\n",
    "    print(\"C\")\n",
    "else:\n",
    "    print(\"D\")\n"
   ]
  },
  {
   "cell_type": "markdown",
   "id": "c14b1543-dce3-4516-875a-490781485018",
   "metadata": {},
   "source": [
    "Q2>"
   ]
  },
  {
   "cell_type": "code",
   "execution_count": null,
   "id": "cc115089-899e-46ca-8bf0-91ea479711cb",
   "metadata": {},
   "outputs": [
    {
     "name": "stdin",
     "output_type": "stream",
     "text": [
      "enter cost price of a bike 23000\n"
     ]
    },
    {
     "name": "stdout",
     "output_type": "stream",
     "text": [
      "5%\n"
     ]
    }
   ],
   "source": [
    "p=int(input(\"enter cost price of a bike\"))\n",
    "if(p>100000):\n",
    "    print(\"15%\")\n",
    "elif(p>50000 and p<=100000):\n",
    "    print(\"10%\")\n",
    "else:\n",
    "    print(\"5%\")"
   ]
  },
  {
   "cell_type": "markdown",
   "id": "7cdd5121-78c5-433c-a7f1-d1d09c68c341",
   "metadata": {},
   "source": [
    "Q3>"
   ]
  },
  {
   "cell_type": "code",
   "execution_count": 3,
   "id": "34477281-ce30-4996-b5b8-0d7b751ba426",
   "metadata": {},
   "outputs": [
    {
     "name": "stdin",
     "output_type": "stream",
     "text": [
      "Enter city  Delhi\n"
     ]
    },
    {
     "name": "stdout",
     "output_type": "stream",
     "text": [
      "Red Fort\n"
     ]
    }
   ],
   "source": [
    "p=str(input(\"Enter city \"))\n",
    "if(p==\"Delhi\"):\n",
    "    print(\"Red Fort\")\n",
    "elif(p==\"Agra\"):\n",
    "    print(\"Taj Mahal\")\n",
    "elif(p==\"Jaipur\"):\n",
    "    print(\"Jal Mahal\")"
   ]
  },
  {
   "cell_type": "markdown",
   "id": "66d8bff6-10af-4af9-b416-39775c11a2f2",
   "metadata": {},
   "source": [
    "Q4>"
   ]
  },
  {
   "cell_type": "code",
   "execution_count": null,
   "id": "8eed6453-c61d-4fe5-83ec-c392c12db42a",
   "metadata": {},
   "outputs": [
    {
     "name": "stdin",
     "output_type": "stream",
     "text": [
      "Enter a number 55\n"
     ]
    },
    {
     "name": "stdout",
     "output_type": "stream",
     "text": [
      "2\n"
     ]
    }
   ],
   "source": [
    "s=0\n",
    "p=int(input(\"Enter a number\"))\n",
    "while(p>10):\n",
    "    p=p/3\n",
    "    s=s+1\n",
    "print(s)"
   ]
  },
  {
   "cell_type": "markdown",
   "id": "38f48259-4dab-4696-8f37-8a13276476b6",
   "metadata": {},
   "source": [
    "Q5>"
   ]
  },
  {
   "cell_type": "markdown",
   "id": "d708e27c-8b34-4bbf-a7dc-9a21498677ff",
   "metadata": {},
   "source": [
    "Python While Loop is used to execute a block of statements repeatedly until a given condition is satisfied. And when the condition becomes false, the line immediately after the loop in the program is executed."
   ]
  },
  {
   "cell_type": "code",
   "execution_count": 5,
   "id": "1501fe8a-f978-4cbe-a8b4-93a19cfbc878",
   "metadata": {},
   "outputs": [
    {
     "name": "stdout",
     "output_type": "stream",
     "text": [
      "Hello Geek\n",
      "Hello Geek\n",
      "Hello Geek\n"
     ]
    }
   ],
   "source": [
    "count = 0\n",
    "while (count < 3):\n",
    "\tcount = count + 1\n",
    "\tprint(\"Hello Geek\")"
   ]
  },
  {
   "cell_type": "markdown",
   "id": "4d955716-71f6-4f41-aa6d-d6f8d3d16d64",
   "metadata": {},
   "source": [
    "Q6>"
   ]
  },
  {
   "cell_type": "code",
   "execution_count": 6,
   "id": "27760373-eb26-4fea-9341-8638f158b452",
   "metadata": {},
   "outputs": [
    {
     "name": "stdout",
     "output_type": "stream",
     "text": [
      "1 \n",
      "1 2 \n",
      "1 2 3 \n",
      "1 2 3 4 \n",
      "1 2 3 4 5 \n"
     ]
    }
   ],
   "source": [
    "i=1\n",
    "while i<=5:\n",
    "    j=1\n",
    "    while j<=i:\n",
    "        print(j,end=\" \")\n",
    "        j=j+1\n",
    "    print(\"\")\n",
    "    i=i+1"
   ]
  },
  {
   "cell_type": "code",
   "execution_count": 7,
   "id": "e17a57f5-50cf-48f7-bf10-1176147f8e18",
   "metadata": {},
   "outputs": [
    {
     "name": "stdout",
     "output_type": "stream",
     "text": [
      "\n",
      "5 \n",
      "5 4 \n",
      "5 4 3 \n",
      "5 4 3 2 \n",
      "5 4 3 2 1 \n"
     ]
    }
   ],
   "source": [
    "i=6\n",
    "while i>=1:\n",
    "    j=5\n",
    "    while j>=i:\n",
    "        print(j,end=\" \")\n",
    "        j=j-1\n",
    "    print( )\n",
    "    i=i-1"
   ]
  },
  {
   "cell_type": "code",
   "execution_count": 8,
   "id": "976f8d71-8179-45dc-955a-5266a4af4e34",
   "metadata": {},
   "outputs": [
    {
     "name": "stdout",
     "output_type": "stream",
     "text": [
      "* * * * * \n",
      "* * * * \n",
      "* * * \n",
      "* * \n",
      "* \n"
     ]
    }
   ],
   "source": [
    "i = 1\n",
    "while i <= 5 :\n",
    "    j = 5\n",
    "    while j >= i:\n",
    "        print(\"*\", end = \" \")\n",
    "        j -= 1\n",
    "    print()\n",
    "    i += 1"
   ]
  },
  {
   "cell_type": "markdown",
   "id": "ffeb20b2-dc8b-4854-9ca8-6acd9c400519",
   "metadata": {},
   "source": [
    "Q7>"
   ]
  },
  {
   "cell_type": "code",
   "execution_count": 9,
   "id": "66647479-55eb-4db9-a4d9-f05881e3be11",
   "metadata": {},
   "outputs": [
    {
     "name": "stdout",
     "output_type": "stream",
     "text": [
      "10\n",
      "9\n",
      "8\n",
      "7\n",
      "6\n",
      "5\n",
      "4\n",
      "3\n",
      "2\n",
      "1\n"
     ]
    }
   ],
   "source": [
    "i=10\n",
    "while(i<=10 and i>0):\n",
    "    print(i)\n",
    "    i=i-1"
   ]
  },
  {
   "cell_type": "code",
   "execution_count": null,
   "id": "c185f1d8-3364-421c-8c78-a7a3425347f9",
   "metadata": {},
   "outputs": [],
   "source": []
  }
 ],
 "metadata": {
  "kernelspec": {
   "display_name": "Python 3 (ipykernel)",
   "language": "python",
   "name": "python3"
  },
  "language_info": {
   "codemirror_mode": {
    "name": "ipython",
    "version": 3
   },
   "file_extension": ".py",
   "mimetype": "text/x-python",
   "name": "python",
   "nbconvert_exporter": "python",
   "pygments_lexer": "ipython3",
   "version": "3.10.8"
  }
 },
 "nbformat": 4,
 "nbformat_minor": 5
}
