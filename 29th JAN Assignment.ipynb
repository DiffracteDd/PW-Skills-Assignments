{
 "cells": [
  {
   "cell_type": "markdown",
   "id": "ef8365d0-135a-407c-a134-c6d47bb07d56",
   "metadata": {},
   "source": [
    "1> Guido van Rossum developed the Python Programming Language."
   ]
  },
  {
   "cell_type": "markdown",
   "id": "590660b0-fc1c-4b42-bc5d-5c285ff4f27b",
   "metadata": {},
   "source": [
    "2> Python is a multi-paradigm programming language. Object-oriented programming and structured programming are fully supported, and many of their features support functional programming and aspect-oriented programming (including metaprogramming and metaobjects)."
   ]
  },
  {
   "cell_type": "markdown",
   "id": "d21efeb4-00ff-4c4a-8bd7-82040e6213c2",
   "metadata": {},
   "source": [
    "3> Python is a case sensitive language."
   ]
  },
  {
   "cell_type": "markdown",
   "id": "8b009fb7-bc1b-4b87-8dbd-1c33507433bf",
   "metadata": {},
   "source": [
    "4> The correct extension of Python file is .py."
   ]
  },
  {
   "cell_type": "markdown",
   "id": "8b5ea0f2-feb4-4cf2-9326-0e9a99c53745",
   "metadata": {},
   "source": [
    "5> Python is an interpreted language."
   ]
  },
  {
   "cell_type": "markdown",
   "id": "c3941e82-48b8-4d7f-82df-0395f2ee52e6",
   "metadata": {},
   "source": [
    "6> A module, a function body and a class definition are blocks that are used to define in Python language."
   ]
  },
  {
   "cell_type": "markdown",
   "id": "8d0d1bf4-a70d-4ccf-a513-4d2069d61592",
   "metadata": {},
   "source": [
    "7> \"#\" command is used to give single line comments in python languag."
   ]
  },
  {
   "cell_type": "markdown",
   "id": "5ed4b540-5bed-48ab-b094-6a684d29a478",
   "metadata": {},
   "source": [
    "8> The function sys.version helps us to find out which version we are working on."
   ]
  },
  {
   "cell_type": "markdown",
   "id": "048cc09e-b7b5-43b3-8be0-446690623ff0",
   "metadata": {},
   "source": [
    "9> Python supports the formation of anonymous functions at runtime using a construct called \"lambda\"."
   ]
  },
  {
   "cell_type": "markdown",
   "id": "5cb5c433-a88f-46e1-8acc-d50af3c88747",
   "metadata": {},
   "source": [
    "10> In python pip stands for preferred installer program. "
   ]
  },
  {
   "cell_type": "markdown",
   "id": "5757cd97-28bd-417f-9782-37260132800b",
   "metadata": {},
   "source": [
    "11> Few built in functions in python are abs(), all(), any(), type()."
   ]
  },
  {
   "cell_type": "markdown",
   "id": "1e758e71-605b-4422-af5a-fac589954fa8",
   "metadata": {},
   "source": [
    "12> An identifier can have a maximum length of 79 characters in Python."
   ]
  },
  {
   "cell_type": "markdown",
   "id": "8db1f7a6-46d8-49d1-8ad8-2f8a579dcab3",
   "metadata": {},
   "source": [
    "13> Python programming is a general-purpose skill used in almost all fields, including: \n",
    "Data science\n",
    "Scientific and mathematical computing\n",
    "Web development\n",
    "Finance and trading\n",
    "System automation and administration\n",
    "Computer graphics\n",
    "Basic game development"
   ]
  },
  {
   "cell_type": "raw",
   "id": "f5ace561-6d23-4a1d-86b8-3ba244f777f8",
   "metadata": {},
   "source": [
    "14> Memory management in Python involves a private heap containing all Python objects and data structures. The management of this private heap is ensured internally by the Python memory manager."
   ]
  },
  {
   "cell_type": "raw",
   "id": "e1e027b8-fd77-4f39-8f31-03c27708d2c1",
   "metadata": {},
   "source": [
    "15> Indentation in Python is very important. Python uses indentation to indicate a block of code."
   ]
  }
 ],
 "metadata": {
  "kernelspec": {
   "display_name": "Python 3 (ipykernel)",
   "language": "python",
   "name": "python3"
  },
  "language_info": {
   "codemirror_mode": {
    "name": "ipython",
    "version": 3
   },
   "file_extension": ".py",
   "mimetype": "text/x-python",
   "name": "python",
   "nbconvert_exporter": "python",
   "pygments_lexer": "ipython3",
   "version": "3.10.8"
  }
 },
 "nbformat": 4,
 "nbformat_minor": 5
}
