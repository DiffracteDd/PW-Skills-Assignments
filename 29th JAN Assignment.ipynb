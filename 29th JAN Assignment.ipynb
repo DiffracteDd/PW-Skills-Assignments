{
 "cells": [
  {
   "cell_type": "raw",
   "id": "b7085aa0-7e3e-4759-beeb-4203475f9580",
   "metadata": {},
   "source": [
    "1> Guido van Rossum developed the Python Programming Language."
   ]
  },
  {
   "cell_type": "raw",
   "id": "bfe5f358-3a28-4f8f-a039-23f5d692932c",
   "metadata": {},
   "source": [
    "2> Python is a multi-paradigm programming language. Object-oriented programming and structured programming are fully supported, and many of their features support functional programming and aspect-oriented programming (including metaprogramming and metaobjects)."
   ]
  },
  {
   "cell_type": "raw",
   "id": "fd155a1e-08f3-4714-a6b1-a25fc5c6ddb8",
   "metadata": {},
   "source": [
    "3> Python is a case sensitive language."
   ]
  },
  {
   "cell_type": "raw",
   "id": "94a49940-9074-4c64-a91b-93777a260b1e",
   "metadata": {},
   "source": [
    "4> The correct extension of Python file is .py."
   ]
  },
  {
   "cell_type": "raw",
   "id": "ae70388b-deef-4c99-8220-61e97c194b0f",
   "metadata": {},
   "source": [
    "5> Python is an interpreted language."
   ]
  },
  {
   "cell_type": "raw",
   "id": "857abe7c-e000-42fd-995a-f5e48743ec2c",
   "metadata": {},
   "source": [
    "6> A module, a function body and a class definition are blocks that are used to define in Python language."
   ]
  },
  {
   "cell_type": "raw",
   "id": "327b81df-2cc3-48ad-9228-d4a4e1862b7b",
   "metadata": {},
   "source": [
    "7> \"#\" command is used to give single line comments in python languag."
   ]
  },
  {
   "cell_type": "raw",
   "id": "fb5134a9-4d86-417a-a005-e678b16fec08",
   "metadata": {},
   "source": [
    "8> The function sys.version helps us to find out which version we are working on."
   ]
  },
  {
   "cell_type": "raw",
   "id": "73f46504-c84e-4ce2-9e6d-96979d1d355b",
   "metadata": {},
   "source": [
    "9> Python supports the formation of anonymous functions at runtime using a construct called \"lambda\"."
   ]
  },
  {
   "cell_type": "raw",
   "id": "263e34b3-83ea-4efc-9a40-4ca063bde476",
   "metadata": {},
   "source": [
    "10> In python pip stands for preferred installer program. "
   ]
  },
  {
   "cell_type": "raw",
   "id": "2e05f70e-0249-435a-9084-4387ac0962d4",
   "metadata": {},
   "source": [
    "11> Few built in functions in python are abs(), all(), any(), type()."
   ]
  },
  {
   "cell_type": "raw",
   "id": "830aaff7-8494-4235-9fb5-6cc3a3e91e80",
   "metadata": {},
   "source": [
    "12> An identifier can have a maximum length of 79 characters in Python."
   ]
  },
  {
   "cell_type": "raw",
   "id": "c3f10c01-6c42-4abe-aaaf-2f16a139b33b",
   "metadata": {},
   "source": [
    "13> Python programming is a general-purpose skill used in almost all fields, including: \n",
    "Data science\n",
    "Scientific and mathematical computing\n",
    "Web development\n",
    "Finance and trading\n",
    "System automation and administration\n",
    "Computer graphics\n",
    "Basic game development"
   ]
  },
  {
   "cell_type": "raw",
   "id": "f5ace561-6d23-4a1d-86b8-3ba244f777f8",
   "metadata": {},
   "source": [
    "14> Memory management in Python involves a private heap containing all Python objects and data structures. The management of this private heap is ensured internally by the Python memory manager."
   ]
  },
  {
   "cell_type": "raw",
   "id": "e1e027b8-fd77-4f39-8f31-03c27708d2c1",
   "metadata": {},
   "source": [
    "15> Indentation in Python is very important. Python uses indentation to indicate a block of code."
   ]
  }
 ],
 "metadata": {
  "kernelspec": {
   "display_name": "Python 3 (ipykernel)",
   "language": "python",
   "name": "python3"
  },
  "language_info": {
   "codemirror_mode": {
    "name": "ipython",
    "version": 3
   },
   "file_extension": ".py",
   "mimetype": "text/x-python",
   "name": "python",
   "nbconvert_exporter": "python",
   "pygments_lexer": "ipython3",
   "version": "3.10.8"
  }
 },
 "nbformat": 4,
 "nbformat_minor": 5
}
