{
 "cells": [
  {
   "cell_type": "markdown",
   "id": "c7b5a8a6-9c63-4fe5-8557-3497fce301a7",
   "metadata": {},
   "source": [
    "Q1>Custom exceptions provides us the flexibility to add attributes and methods that are not part of a standard Java exception. These can store additional information, like an application-specific error code, or provide utility methods that can be used to handle or present the exception to a user."
   ]
  },
  {
   "cell_type": "markdown",
   "id": "e557d853-4556-4b33-a267-e44993dc6911",
   "metadata": {},
   "source": [
    "Q2>"
   ]
  },
  {
   "cell_type": "code",
   "execution_count": 4,
   "id": "8224831e-562b-435e-b680-88b2452aa949",
   "metadata": {},
   "outputs": [
    {
     "ename": "BaseException",
     "evalue": "",
     "output_type": "error",
     "traceback": [
      "\u001b[0;31m---------------------------------------------------------------------------\u001b[0m",
      "\u001b[0;31mBaseException\u001b[0m                             Traceback (most recent call last)",
      "Cell \u001b[0;32mIn[4], line 14\u001b[0m\n\u001b[1;32m     11\u001b[0m         base_exception \u001b[38;5;241m=\u001b[39m base_exception\u001b[38;5;241m.\u001b[39m__base__\n\u001b[1;32m     13\u001b[0m \u001b[38;5;28;01mif\u001b[39;00m \u001b[38;5;18m__name__\u001b[39m \u001b[38;5;241m==\u001b[39m \u001b[38;5;124m\"\u001b[39m\u001b[38;5;124m__main__\u001b[39m\u001b[38;5;124m\"\u001b[39m:\n\u001b[0;32m---> 14\u001b[0m     \u001b[43mprint_exception_hierarchy\u001b[49m\u001b[43m(\u001b[49m\u001b[43m)\u001b[49m\n",
      "Cell \u001b[0;32mIn[4], line 8\u001b[0m, in \u001b[0;36mprint_exception_hierarchy\u001b[0;34m()\u001b[0m\n\u001b[1;32m      6\u001b[0m \u001b[38;5;28;01mwhile\u001b[39;00m base_exception:\n\u001b[1;32m      7\u001b[0m     \u001b[38;5;28;01mtry\u001b[39;00m:\n\u001b[0;32m----> 8\u001b[0m         \u001b[38;5;28;01mraise\u001b[39;00m base_exception()\n\u001b[1;32m      9\u001b[0m     \u001b[38;5;28;01mexcept\u001b[39;00m \u001b[38;5;167;01mException\u001b[39;00m \u001b[38;5;28;01mas\u001b[39;00m e:\n\u001b[1;32m     10\u001b[0m         \u001b[38;5;28mprint\u001b[39m(e\u001b[38;5;241m.\u001b[39m\u001b[38;5;18m__class__\u001b[39m\u001b[38;5;241m.\u001b[39m\u001b[38;5;18m__name__\u001b[39m)\n",
      "\u001b[0;31mBaseException\u001b[0m: "
     ]
    }
   ],
   "source": [
    "def print_exception_hierarchy():\n",
    "    # Get the base exception class\n",
    "    base_exception = BaseException\n",
    "\n",
    "    # Print the hierarchy using try-except blocks\n",
    "    while base_exception:\n",
    "        try:\n",
    "            raise base_exception()\n",
    "        except Exception as e:\n",
    "            print(e.__class__.__name__)\n",
    "        base_exception = base_exception.__base__\n",
    "\n",
    "if __name__ == \"__main__\":\n",
    "    print_exception_hierarchy()\n"
   ]
  },
  {
   "cell_type": "markdown",
   "id": "cd8059e0-0a49-47ce-b43f-8e75aa42725e",
   "metadata": {},
   "source": [
    "Q3>The ArithmeticError class is a built-in Python class that serves as the base class for arithmetic errors. It is a subclass of the Exception class and is further subclassed by more specific arithmetic exceptions like ZeroDivisionError, OverflowError, and FloatingPointError."
   ]
  },
  {
   "cell_type": "markdown",
   "id": "491dc457-eb80-44b3-a544-28ebe12be7a2",
   "metadata": {},
   "source": [
    "ZeroDivisionError: This exception is raised when attempting to divide by zero. For example, the following code would raise a ZeroDivisionError:"
   ]
  },
  {
   "cell_type": "code",
   "execution_count": 5,
   "id": "5d9ceab9-2c97-4223-b57e-56f9f8148667",
   "metadata": {},
   "outputs": [
    {
     "ename": "ZeroDivisionError",
     "evalue": "division by zero",
     "output_type": "error",
     "traceback": [
      "\u001b[0;31m---------------------------------------------------------------------------\u001b[0m",
      "\u001b[0;31mZeroDivisionError\u001b[0m                         Traceback (most recent call last)",
      "Cell \u001b[0;32mIn[5], line 1\u001b[0m\n\u001b[0;32m----> 1\u001b[0m x \u001b[38;5;241m=\u001b[39m \u001b[38;5;241;43m1\u001b[39;49m\u001b[43m \u001b[49m\u001b[38;5;241;43m/\u001b[39;49m\u001b[43m \u001b[49m\u001b[38;5;241;43m0\u001b[39;49m\n",
      "\u001b[0;31mZeroDivisionError\u001b[0m: division by zero"
     ]
    }
   ],
   "source": [
    "x = 1 / 0\n"
   ]
  },
  {
   "cell_type": "markdown",
   "id": "a52ce7b2-49e4-4983-a3f9-ac3e86d24635",
   "metadata": {},
   "source": [
    "OverflowError: This exception is raised when an arithmetic operation exceeds the maximum representable value for a numeric type. For example, the following code would raise an OverflowError:"
   ]
  },
  {
   "cell_type": "code",
   "execution_count": 9,
   "id": "eef1fd83-5dcc-4334-8b4b-203d06341747",
   "metadata": {},
   "outputs": [],
   "source": [
    "import sys\n",
    "\n",
    "x = sys.maxsize + 1\n",
    "y = x * x\n"
   ]
  },
  {
   "cell_type": "markdown",
   "id": "b8487b13-c67a-4954-8fb1-35d2afa540b2",
   "metadata": {},
   "source": [
    "Q4>The LookupError class is a built-in Python class that serves as the base class for lookup errors. It is a subclass of the Exception class and is further subclassed by more specific lookup exceptions like KeyError and IndexError.\n",
    "\n",
    "LookupError class is used when a lookup or indexing operation fails. Here are two common lookup errors that are defined in the LookupError class:"
   ]
  },
  {
   "cell_type": "markdown",
   "id": "004657c4-f5aa-4fc1-a8a3-bbd2e2a2de8b",
   "metadata": {},
   "source": [
    "KeyError: This exception is raised when attempting to access a dictionary key that does not exist. For example, consider the following code:"
   ]
  },
  {
   "cell_type": "code",
   "execution_count": 11,
   "id": "2ec68836-cbac-4477-9ec7-9678f85eee43",
   "metadata": {},
   "outputs": [
    {
     "ename": "KeyError",
     "evalue": "'c'",
     "output_type": "error",
     "traceback": [
      "\u001b[0;31m---------------------------------------------------------------------------\u001b[0m",
      "\u001b[0;31mKeyError\u001b[0m                                  Traceback (most recent call last)",
      "Cell \u001b[0;32mIn[11], line 2\u001b[0m\n\u001b[1;32m      1\u001b[0m d \u001b[38;5;241m=\u001b[39m {\u001b[38;5;124m\"\u001b[39m\u001b[38;5;124ma\u001b[39m\u001b[38;5;124m\"\u001b[39m: \u001b[38;5;241m1\u001b[39m, \u001b[38;5;124m\"\u001b[39m\u001b[38;5;124mb\u001b[39m\u001b[38;5;124m\"\u001b[39m: \u001b[38;5;241m2\u001b[39m}\n\u001b[0;32m----> 2\u001b[0m \u001b[38;5;28mprint\u001b[39m(\u001b[43md\u001b[49m\u001b[43m[\u001b[49m\u001b[38;5;124;43m\"\u001b[39;49m\u001b[38;5;124;43mc\u001b[39;49m\u001b[38;5;124;43m\"\u001b[39;49m\u001b[43m]\u001b[49m)\n",
      "\u001b[0;31mKeyError\u001b[0m: 'c'"
     ]
    }
   ],
   "source": [
    "d = {\"a\": 1, \"b\": 2}\n",
    "print(d[\"c\"])\n"
   ]
  },
  {
   "cell_type": "markdown",
   "id": "1eef846b-dbe2-40fc-9848-28c37b4734c3",
   "metadata": {},
   "source": [
    "IndexError: This exception is raised when attempting to access a list or tuple index that does not exist. For example, consider the following code:"
   ]
  },
  {
   "cell_type": "code",
   "execution_count": 13,
   "id": "8b130abb-012f-409f-b26a-72d1389ea990",
   "metadata": {},
   "outputs": [
    {
     "ename": "IndexError",
     "evalue": "list index out of range",
     "output_type": "error",
     "traceback": [
      "\u001b[0;31m---------------------------------------------------------------------------\u001b[0m",
      "\u001b[0;31mIndexError\u001b[0m                                Traceback (most recent call last)",
      "Cell \u001b[0;32mIn[13], line 2\u001b[0m\n\u001b[1;32m      1\u001b[0m l \u001b[38;5;241m=\u001b[39m [\u001b[38;5;241m1\u001b[39m, \u001b[38;5;241m2\u001b[39m, \u001b[38;5;241m3\u001b[39m]\n\u001b[0;32m----> 2\u001b[0m \u001b[38;5;28mprint\u001b[39m(\u001b[43ml\u001b[49m\u001b[43m[\u001b[49m\u001b[38;5;241;43m3\u001b[39;49m\u001b[43m]\u001b[49m)\n",
      "\u001b[0;31mIndexError\u001b[0m: list index out of range"
     ]
    }
   ],
   "source": [
    "l = [1, 2, 3]\n",
    "print(l[3])\n"
   ]
  },
  {
   "cell_type": "markdown",
   "id": "05a81551-6f1d-4307-af0e-0e37726e61c5",
   "metadata": {},
   "source": [
    "Q5>ImportError is a built-in Python exception that is raised when an import statement fails to find and load the specified module. "
   ]
  },
  {
   "cell_type": "markdown",
   "id": "787d6cb3-8972-4015-83f4-0b98ad25ebc0",
   "metadata": {},
   "source": [
    "oduleNotFoundError is a built-in Python exception that is raised when an import statement fails to find and load the specified module. It is a subclass of the ImportError exception, and it is raised when Python cannot find the module specified in an import statement."
   ]
  },
  {
   "cell_type": "code",
   "execution_count": null,
   "id": "575ad205-a53c-4a76-a6af-ac7051219eaa",
   "metadata": {},
   "outputs": [],
   "source": []
  }
 ],
 "metadata": {
  "kernelspec": {
   "display_name": "Python 3 (ipykernel)",
   "language": "python",
   "name": "python3"
  },
  "language_info": {
   "codemirror_mode": {
    "name": "ipython",
    "version": 3
   },
   "file_extension": ".py",
   "mimetype": "text/x-python",
   "name": "python",
   "nbconvert_exporter": "python",
   "pygments_lexer": "ipython3",
   "version": "3.10.8"
  }
 },
 "nbformat": 4,
 "nbformat_minor": 5
}
