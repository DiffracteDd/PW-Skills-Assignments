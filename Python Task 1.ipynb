{
 "cells": [
  {
   "cell_type": "markdown",
   "id": "0539e7b2-a3a4-4843-ab04-3dd23f646af0",
   "metadata": {},
   "source": [
    "Q1>"
   ]
  },
  {
   "cell_type": "code",
   "execution_count": 12,
   "id": "9c49220d-f160-423c-8f1c-03d6763d4bf6",
   "metadata": {},
   "outputs": [],
   "source": [
    "list1 = [1,2,3,4, [44,55,66, True], False, (34,56,78,89,34), {1,2,3,3,2,1}, {1:34, \"key2\": [55, 67, 78, 89], 4: (45,\n",
    "22, 61, 34)}, [56, 'data science'], 'Machine Learning']"
   ]
  },
  {
   "cell_type": "code",
   "execution_count": 24,
   "id": "e144d611-4173-4c22-95f1-16b08e189ec8",
   "metadata": {},
   "outputs": [
    {
     "name": "stdout",
     "output_type": "stream",
     "text": [
      "[1, 2, 3, 4, 44, 55, 66, True, False, 34, 56, 78, 89, 34, 1, 2, 3, 1, 'key2', 4, 56, 'data science', 'Machine Learning']\n"
     ]
    }
   ],
   "source": [
    "flatlist=[]\n",
    "def flat(list1):\n",
    "    flatlist=[]\n",
    "    for element in list1:\n",
    "        if type(element) is list:\n",
    "            for item in element:\n",
    "                flatlist.append(item)\n",
    "        elif type(element) is tuple:\n",
    "            for item in element:\n",
    "                flatlist.append(item)\n",
    "        elif type(element) is dict:\n",
    "            for item in element:\n",
    "                flatlist.append(item)\n",
    "        elif type(element) is set:\n",
    "            for item in element:\n",
    "                flatlist.append(item)\n",
    "        else:\n",
    "            flatlist.append(element)\n",
    "    return flatlist\n",
    "print(flat(list1))"
   ]
  },
  {
   "cell_type": "code",
   "execution_count": 33,
   "id": "d0f96653-b1a7-4cd7-82f7-c0b59b8f1e0d",
   "metadata": {},
   "outputs": [
    {
     "name": "stdout",
     "output_type": "stream",
     "text": [
      "2315262738624675840\n"
     ]
    }
   ],
   "source": [
    "p=1\n",
    "for i in flat(list1):\n",
    "    if isinstance(i,int):\n",
    "        if i!=True and i!=False:\n",
    "            p=p*i;\n",
    "print(p)"
   ]
  },
  {
   "cell_type": "markdown",
   "id": "e047943f-563c-4125-b4e3-2bd37ff99d04",
   "metadata": {},
   "source": [
    "Q2>\n"
   ]
  },
  {
   "cell_type": "code",
   "execution_count": 64,
   "id": "58b9ec8e-b36e-47c6-bc06-ae6240f3c816",
   "metadata": {},
   "outputs": [
    {
     "name": "stdin",
     "output_type": "stream",
     "text": [
      "Enter a string abc def\n"
     ]
    },
    {
     "name": "stdout",
     "output_type": "stream",
     "text": [
      "z y x $ w v u\n"
     ]
    }
   ],
   "source": [
    "l=[]\n",
    "q=input(\"Enter a string\")\n",
    "for i in q:\n",
    "    if(ord(i)==32):\n",
    "        l.append(\"$\")\n",
    "    elif(ord(i)<=65 or ord(i)<=90)\n",
    "    else:\n",
    "        j=122-(ord(i)-97)\n",
    "        l.append(chr(j))\n",
    "lt = ' '.join(map(str, l))\n",
    "print(lt)"
   ]
  },
  {
   "cell_type": "code",
   "execution_count": null,
   "id": "b450bc79-1d87-4919-b800-07c1d67baeef",
   "metadata": {},
   "outputs": [],
   "source": []
  }
 ],
 "metadata": {
  "kernelspec": {
   "display_name": "Python 3 (ipykernel)",
   "language": "python",
   "name": "python3"
  },
  "language_info": {
   "codemirror_mode": {
    "name": "ipython",
    "version": 3
   },
   "file_extension": ".py",
   "mimetype": "text/x-python",
   "name": "python",
   "nbconvert_exporter": "python",
   "pygments_lexer": "ipython3",
   "version": "3.10.8"
  }
 },
 "nbformat": 4,
 "nbformat_minor": 5
}
