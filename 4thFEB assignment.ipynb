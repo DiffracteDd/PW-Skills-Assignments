{
 "cells": [
  {
   "cell_type": "markdown",
   "id": "c614c581-6c58-4b88-9cfa-da874fdcd6ea",
   "metadata": {},
   "source": [
    "Q1>"
   ]
  },
  {
   "cell_type": "code",
   "execution_count": 7,
   "id": "049e4ce9-edc4-470c-bdd5-592a186ae1f2",
   "metadata": {},
   "outputs": [],
   "source": [
    "l1=[('Sachin Tendulkar', 34357), ('Ricky Ponting', 27483), ('Jack Kallis', 25534), ('Virat Kohli', 24936)]"
   ]
  },
  {
   "cell_type": "code",
   "execution_count": 8,
   "id": "f218988c-1756-4270-80af-e59d6763ff8b",
   "metadata": {},
   "outputs": [],
   "source": [
    "l1.sort(key=lambda x:x[1])\n"
   ]
  },
  {
   "cell_type": "code",
   "execution_count": 9,
   "id": "f851f237-abcc-4cbe-be59-e40da06f13f9",
   "metadata": {},
   "outputs": [
    {
     "name": "stdout",
     "output_type": "stream",
     "text": [
      "[('Virat Kohli', 24936), ('Jack Kallis', 25534), ('Ricky Ponting', 27483), ('Sachin Tendulkar', 34357)]\n"
     ]
    }
   ],
   "source": [
    "print(l1) "
   ]
  },
  {
   "cell_type": "markdown",
   "id": "5a2fc3c0-b635-4eed-8650-43718a45caf5",
   "metadata": {},
   "source": [
    "Q2>"
   ]
  },
  {
   "cell_type": "code",
   "execution_count": 10,
   "id": "e8427436-5b49-4984-a816-02760911c8ff",
   "metadata": {},
   "outputs": [],
   "source": [
    "l2=[1, 2, 3, 4, 5, 6, 7, 8, 9, 10]"
   ]
  },
  {
   "cell_type": "code",
   "execution_count": 14,
   "id": "7c0fa711-d65a-41e5-b0a1-9dbbc231d6cf",
   "metadata": {},
   "outputs": [
    {
     "data": {
      "text/plain": [
       "[1, 4, 9, 16, 25, 36, 49, 64, 81, 100]"
      ]
     },
     "execution_count": 14,
     "metadata": {},
     "output_type": "execute_result"
    }
   ],
   "source": [
    "list(map(lambda x: x**2,l2))"
   ]
  },
  {
   "cell_type": "code",
   "execution_count": 13,
   "id": "09a9e912-2b7f-411f-9006-b0181493111d",
   "metadata": {},
   "outputs": [
    {
     "data": {
      "text/plain": [
       "[1, 4, 9, 16, 25, 36, 49, 64, 81, 100]"
      ]
     },
     "execution_count": 13,
     "metadata": {},
     "output_type": "execute_result"
    }
   ],
   "source": [
    "def sq(x):\n",
    "    return x**2\n",
    "list(map(sq,l2))"
   ]
  },
  {
   "cell_type": "markdown",
   "id": "4845fb61-94c3-4d6a-85ac-4c5a6d3c4b33",
   "metadata": {},
   "source": [
    "Q3>"
   ]
  },
  {
   "cell_type": "code",
   "execution_count": 20,
   "id": "21f21504-3713-40dc-97a7-4930f338e5fb",
   "metadata": {},
   "outputs": [
    {
     "data": {
      "text/plain": [
       "(1, 2, 3, 4, 5, 6, 7, 8, 9, 10)"
      ]
     },
     "execution_count": 20,
     "metadata": {},
     "output_type": "execute_result"
    }
   ],
   "source": [
    "l3=[1, 2, 3, 4, 5, 6, 7, 8, 9, 10]\n",
    "l3=tuple(l3)\n",
    "l3"
   ]
  },
  {
   "cell_type": "code",
   "execution_count": 23,
   "id": "3fce6495-9a40-41be-ac52-4d20e7400481",
   "metadata": {},
   "outputs": [
    {
     "data": {
      "text/plain": [
       "('1', '2', '3', '4', '5', '6', '7', '8', '9', '10')"
      ]
     },
     "execution_count": 23,
     "metadata": {},
     "output_type": "execute_result"
    }
   ],
   "source": [
    "def ty(x):\n",
    "    return str(x)\n",
    "tuple(map(ty,l3))"
   ]
  },
  {
   "cell_type": "code",
   "execution_count": 26,
   "id": "fe317fb2-ce11-41e3-8ece-1544beacd2e0",
   "metadata": {},
   "outputs": [
    {
     "data": {
      "text/plain": [
       "('1', '2', '3', '4', '5', '6', '7', '8', '9', '10')"
      ]
     },
     "execution_count": 26,
     "metadata": {},
     "output_type": "execute_result"
    }
   ],
   "source": [
    "tuple(map(lambda x: str(x),l3))"
   ]
  },
  {
   "cell_type": "markdown",
   "id": "72a332e4-9b2a-41b5-b185-02085419c3e9",
   "metadata": {},
   "source": [
    "Q4>"
   ]
  },
  {
   "cell_type": "code",
   "execution_count": 29,
   "id": "dbf8d72f-8a72-4b7a-8771-b5b8a592f611",
   "metadata": {},
   "outputs": [
    {
     "data": {
      "text/plain": [
       "15511210043330985984000000"
      ]
     },
     "execution_count": 29,
     "metadata": {},
     "output_type": "execute_result"
    }
   ],
   "source": [
    "from functools import reduce\n",
    "l4=[1,2,3,4,5,6,7,8,9,10,11,12,13,14,15,16,17,18,19,20,21,22,23,24,25]\n",
    "reduce(lambda x,y: x*y,l4)"
   ]
  },
  {
   "cell_type": "code",
   "execution_count": 30,
   "id": "2ebc6255-7ed5-44f4-a552-0b154b7a1a9c",
   "metadata": {},
   "outputs": [
    {
     "name": "stdout",
     "output_type": "stream",
     "text": [
      "15511210043330985984000000\n"
     ]
    }
   ],
   "source": [
    "p=1\n",
    "for i in range(1,26):\n",
    "    p=p*i\n",
    "print(p)"
   ]
  },
  {
   "cell_type": "markdown",
   "id": "6d135050-a5ce-48a0-9f98-92dc5476cf92",
   "metadata": {},
   "source": [
    "Q5>"
   ]
  },
  {
   "cell_type": "code",
   "execution_count": 33,
   "id": "7b795ef7-6677-48e9-a4ba-cb3bc64f63f9",
   "metadata": {},
   "outputs": [
    {
     "data": {
      "text/plain": [
       "[2, 3, 6, 9, 27, 60, 90, 120, 46]"
      ]
     },
     "execution_count": 33,
     "metadata": {},
     "output_type": "execute_result"
    }
   ],
   "source": [
    "l5=[2, 3, 6, 9, 27, 60, 90, 120, 55, 46]\n",
    "list(filter(lambda x : x%2==0 or x%3==0,l5))"
   ]
  },
  {
   "cell_type": "markdown",
   "id": "d25ad5e6-338d-4064-bf19-606f778ebc23",
   "metadata": {},
   "source": [
    "Q6>"
   ]
  },
  {
   "cell_type": "code",
   "execution_count": 34,
   "id": "f0a2eb03-690a-4d5c-9924-43f6e6e497b5",
   "metadata": {},
   "outputs": [],
   "source": [
    "l6=['python', 'php', 'aba', 'radar', 'level']"
   ]
  },
  {
   "cell_type": "code",
   "execution_count": 36,
   "id": "ccbc2380-50e1-4850-bee5-580158b367bc",
   "metadata": {},
   "outputs": [
    {
     "data": {
      "text/plain": [
       "['php', 'aba', 'radar', 'level']"
      ]
     },
     "execution_count": 36,
     "metadata": {},
     "output_type": "execute_result"
    }
   ],
   "source": [
    "list(filter(lambda x: x==\"\".join(reversed(x)),l6))"
   ]
  },
  {
   "cell_type": "code",
   "execution_count": 42,
   "id": "c9e57792-32ea-4485-a04d-ad173a8be64b",
   "metadata": {},
   "outputs": [
    {
     "name": "stdout",
     "output_type": "stream",
     "text": [
      "ees\n"
     ]
    }
   ],
   "source": [
    "def join(x):\n",
    "    l=(\"\".join(reversed('x')))\n",
    "list(filter(lambda "
   ]
  },
  {
   "cell_type": "code",
   "execution_count": null,
   "id": "73b515bc-6624-4be6-9c2a-cf93920563c7",
   "metadata": {},
   "outputs": [],
   "source": []
  }
 ],
 "metadata": {
  "kernelspec": {
   "display_name": "Python 3 (ipykernel)",
   "language": "python",
   "name": "python3"
  },
  "language_info": {
   "codemirror_mode": {
    "name": "ipython",
    "version": 3
   },
   "file_extension": ".py",
   "mimetype": "text/x-python",
   "name": "python",
   "nbconvert_exporter": "python",
   "pygments_lexer": "ipython3",
   "version": "3.10.8"
  }
 },
 "nbformat": 4,
 "nbformat_minor": 5
}
