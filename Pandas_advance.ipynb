{
 "cells": [
  {
   "cell_type": "markdown",
   "id": "d5544982-904e-442a-86b1-2d2e7968fe86",
   "metadata": {},
   "source": [
    "1> Read Data, Head and Tail,Shape, Size and Info, Describe are 5 important functions of the pandas library."
   ]
  },
  {
   "cell_type": "markdown",
   "id": "7d4d03cc-1d35-4d61-b232-1c8c9bba2baf",
   "metadata": {},
   "source": [
    "2> "
   ]
  },
  {
   "cell_type": "code",
   "execution_count": 7,
   "id": "34fa31c6-a1a1-4658-9dc1-b23e47195413",
   "metadata": {},
   "outputs": [],
   "source": [
    "data={'a':[1,2,3,4,5],\n",
    "      'b':['a','b','c','d','e'],\n",
    "      'c':['isagi','bachira','eren','light','ryuk']}"
   ]
  },
  {
   "cell_type": "code",
   "execution_count": 1,
   "id": "123a7b40-a33e-452f-9292-ff1da70f0729",
   "metadata": {},
   "outputs": [],
   "source": [
    "import pandas as pd"
   ]
  },
  {
   "cell_type": "code",
   "execution_count": 24,
   "id": "b5112335-62e2-4128-978a-dfa37bc5877e",
   "metadata": {},
   "outputs": [],
   "source": [
    "df= pd.DataFrame(data)"
   ]
  },
  {
   "cell_type": "code",
   "execution_count": 25,
   "id": "d5c2b9d0-27d4-4e14-bd5c-05a5f2bc1050",
   "metadata": {},
   "outputs": [
    {
     "data": {
      "text/html": [
       "<div>\n",
       "<style scoped>\n",
       "    .dataframe tbody tr th:only-of-type {\n",
       "        vertical-align: middle;\n",
       "    }\n",
       "\n",
       "    .dataframe tbody tr th {\n",
       "        vertical-align: top;\n",
       "    }\n",
       "\n",
       "    .dataframe thead th {\n",
       "        text-align: right;\n",
       "    }\n",
       "</style>\n",
       "<table border=\"1\" class=\"dataframe\">\n",
       "  <thead>\n",
       "    <tr style=\"text-align: right;\">\n",
       "      <th></th>\n",
       "      <th>a</th>\n",
       "      <th>b</th>\n",
       "      <th>c</th>\n",
       "    </tr>\n",
       "  </thead>\n",
       "  <tbody>\n",
       "    <tr>\n",
       "      <th>0</th>\n",
       "      <td>1</td>\n",
       "      <td>a</td>\n",
       "      <td>isagi</td>\n",
       "    </tr>\n",
       "    <tr>\n",
       "      <th>1</th>\n",
       "      <td>2</td>\n",
       "      <td>b</td>\n",
       "      <td>bachira</td>\n",
       "    </tr>\n",
       "    <tr>\n",
       "      <th>2</th>\n",
       "      <td>3</td>\n",
       "      <td>c</td>\n",
       "      <td>eren</td>\n",
       "    </tr>\n",
       "    <tr>\n",
       "      <th>3</th>\n",
       "      <td>4</td>\n",
       "      <td>d</td>\n",
       "      <td>light</td>\n",
       "    </tr>\n",
       "    <tr>\n",
       "      <th>4</th>\n",
       "      <td>5</td>\n",
       "      <td>e</td>\n",
       "      <td>ryuk</td>\n",
       "    </tr>\n",
       "  </tbody>\n",
       "</table>\n",
       "</div>"
      ],
      "text/plain": [
       "   a  b        c\n",
       "0  1  a    isagi\n",
       "1  2  b  bachira\n",
       "2  3  c     eren\n",
       "3  4  d    light\n",
       "4  5  e     ryuk"
      ]
     },
     "execution_count": 25,
     "metadata": {},
     "output_type": "execute_result"
    }
   ],
   "source": [
    "df"
   ]
  },
  {
   "cell_type": "code",
   "execution_count": 39,
   "id": "e1113861-7a39-43c7-ba23-7c04b238fb8b",
   "metadata": {},
   "outputs": [],
   "source": [
    "def resetindex(df):\n",
    "    new_index=range(1,len(df)*2+1,2)\n",
    "    df=df.set_index(pd.Index(new_index))\n",
    "    return df"
   ]
  },
  {
   "cell_type": "code",
   "execution_count": 40,
   "id": "3e7a13cd-fff5-48d5-9d87-e1e506263564",
   "metadata": {},
   "outputs": [
    {
     "data": {
      "text/html": [
       "<div>\n",
       "<style scoped>\n",
       "    .dataframe tbody tr th:only-of-type {\n",
       "        vertical-align: middle;\n",
       "    }\n",
       "\n",
       "    .dataframe tbody tr th {\n",
       "        vertical-align: top;\n",
       "    }\n",
       "\n",
       "    .dataframe thead th {\n",
       "        text-align: right;\n",
       "    }\n",
       "</style>\n",
       "<table border=\"1\" class=\"dataframe\">\n",
       "  <thead>\n",
       "    <tr style=\"text-align: right;\">\n",
       "      <th></th>\n",
       "      <th>a</th>\n",
       "      <th>b</th>\n",
       "      <th>c</th>\n",
       "    </tr>\n",
       "  </thead>\n",
       "  <tbody>\n",
       "    <tr>\n",
       "      <th>1</th>\n",
       "      <td>1</td>\n",
       "      <td>a</td>\n",
       "      <td>isagi</td>\n",
       "    </tr>\n",
       "    <tr>\n",
       "      <th>3</th>\n",
       "      <td>2</td>\n",
       "      <td>b</td>\n",
       "      <td>bachira</td>\n",
       "    </tr>\n",
       "    <tr>\n",
       "      <th>5</th>\n",
       "      <td>3</td>\n",
       "      <td>c</td>\n",
       "      <td>eren</td>\n",
       "    </tr>\n",
       "    <tr>\n",
       "      <th>7</th>\n",
       "      <td>4</td>\n",
       "      <td>d</td>\n",
       "      <td>light</td>\n",
       "    </tr>\n",
       "    <tr>\n",
       "      <th>9</th>\n",
       "      <td>5</td>\n",
       "      <td>e</td>\n",
       "      <td>ryuk</td>\n",
       "    </tr>\n",
       "  </tbody>\n",
       "</table>\n",
       "</div>"
      ],
      "text/plain": [
       "   a  b        c\n",
       "1  1  a    isagi\n",
       "3  2  b  bachira\n",
       "5  3  c     eren\n",
       "7  4  d    light\n",
       "9  5  e     ryuk"
      ]
     },
     "execution_count": 40,
     "metadata": {},
     "output_type": "execute_result"
    }
   ],
   "source": [
    "resetindex(df)"
   ]
  },
  {
   "cell_type": "markdown",
   "id": "1846dd63-44d7-4340-a20c-a1219e297da3",
   "metadata": {},
   "source": [
    "3>"
   ]
  },
  {
   "cell_type": "code",
   "execution_count": 41,
   "id": "1b6ec285-0d85-468a-b7e7-1cd43d26c80c",
   "metadata": {},
   "outputs": [],
   "source": [
    "data={\"name\":['isagi','bachira','eren','light','ryuk'],\n",
    "      \"values\":[2,4,6,8,10]}"
   ]
  },
  {
   "cell_type": "code",
   "execution_count": 42,
   "id": "0aa98f8d-02f1-46c6-903f-b483fbf680d1",
   "metadata": {},
   "outputs": [],
   "source": [
    "df=pd.DataFrame(data)"
   ]
  },
  {
   "cell_type": "code",
   "execution_count": 43,
   "id": "d59dea35-31bb-4b4c-8c10-67b881775864",
   "metadata": {},
   "outputs": [
    {
     "data": {
      "text/html": [
       "<div>\n",
       "<style scoped>\n",
       "    .dataframe tbody tr th:only-of-type {\n",
       "        vertical-align: middle;\n",
       "    }\n",
       "\n",
       "    .dataframe tbody tr th {\n",
       "        vertical-align: top;\n",
       "    }\n",
       "\n",
       "    .dataframe thead th {\n",
       "        text-align: right;\n",
       "    }\n",
       "</style>\n",
       "<table border=\"1\" class=\"dataframe\">\n",
       "  <thead>\n",
       "    <tr style=\"text-align: right;\">\n",
       "      <th></th>\n",
       "      <th>name</th>\n",
       "      <th>values</th>\n",
       "    </tr>\n",
       "  </thead>\n",
       "  <tbody>\n",
       "    <tr>\n",
       "      <th>0</th>\n",
       "      <td>isagi</td>\n",
       "      <td>2</td>\n",
       "    </tr>\n",
       "    <tr>\n",
       "      <th>1</th>\n",
       "      <td>bachira</td>\n",
       "      <td>4</td>\n",
       "    </tr>\n",
       "    <tr>\n",
       "      <th>2</th>\n",
       "      <td>eren</td>\n",
       "      <td>6</td>\n",
       "    </tr>\n",
       "    <tr>\n",
       "      <th>3</th>\n",
       "      <td>light</td>\n",
       "      <td>8</td>\n",
       "    </tr>\n",
       "    <tr>\n",
       "      <th>4</th>\n",
       "      <td>ryuk</td>\n",
       "      <td>10</td>\n",
       "    </tr>\n",
       "  </tbody>\n",
       "</table>\n",
       "</div>"
      ],
      "text/plain": [
       "      name  values\n",
       "0    isagi       2\n",
       "1  bachira       4\n",
       "2     eren       6\n",
       "3    light       8\n",
       "4     ryuk      10"
      ]
     },
     "execution_count": 43,
     "metadata": {},
     "output_type": "execute_result"
    }
   ],
   "source": [
    "df"
   ]
  },
  {
   "cell_type": "code",
   "execution_count": 57,
   "id": "500a8ed2-ae79-4483-b351-b39ea3fe67af",
   "metadata": {},
   "outputs": [],
   "source": [
    "def summation(df):\n",
    "    s=0\n",
    "    for i in range(0,3):\n",
    "        s+=df['values'][i]\n",
    "    print(s)"
   ]
  },
  {
   "cell_type": "code",
   "execution_count": 58,
   "id": "0bc9f522-a94c-4df0-aa94-5680dd2dcd8f",
   "metadata": {},
   "outputs": [
    {
     "data": {
      "text/plain": [
       "6"
      ]
     },
     "execution_count": 58,
     "metadata": {},
     "output_type": "execute_result"
    }
   ],
   "source": [
    "df['values'][2]"
   ]
  },
  {
   "cell_type": "code",
   "execution_count": 59,
   "id": "7ee746a7-f1b5-4192-b92a-512477d90ae7",
   "metadata": {},
   "outputs": [
    {
     "name": "stdout",
     "output_type": "stream",
     "text": [
      "12\n"
     ]
    }
   ],
   "source": [
    "summation(df)"
   ]
  },
  {
   "cell_type": "markdown",
   "id": "a58c5c48-10f8-45f4-9d71-5cc8f355a1e1",
   "metadata": {},
   "source": [
    "4>"
   ]
  },
  {
   "cell_type": "code",
   "execution_count": 61,
   "id": "02db6c3f-bab0-42a3-8caf-f8ddd0becda6",
   "metadata": {},
   "outputs": [
    {
     "data": {
      "text/html": [
       "<div>\n",
       "<style scoped>\n",
       "    .dataframe tbody tr th:only-of-type {\n",
       "        vertical-align: middle;\n",
       "    }\n",
       "\n",
       "    .dataframe tbody tr th {\n",
       "        vertical-align: top;\n",
       "    }\n",
       "\n",
       "    .dataframe thead th {\n",
       "        text-align: right;\n",
       "    }\n",
       "</style>\n",
       "<table border=\"1\" class=\"dataframe\">\n",
       "  <thead>\n",
       "    <tr style=\"text-align: right;\">\n",
       "      <th></th>\n",
       "      <th>a</th>\n",
       "      <th>text</th>\n",
       "    </tr>\n",
       "  </thead>\n",
       "  <tbody>\n",
       "    <tr>\n",
       "      <th>0</th>\n",
       "      <td>1</td>\n",
       "      <td>isagi</td>\n",
       "    </tr>\n",
       "    <tr>\n",
       "      <th>1</th>\n",
       "      <td>2</td>\n",
       "      <td>bachira</td>\n",
       "    </tr>\n",
       "    <tr>\n",
       "      <th>2</th>\n",
       "      <td>3</td>\n",
       "      <td>eren</td>\n",
       "    </tr>\n",
       "    <tr>\n",
       "      <th>3</th>\n",
       "      <td>4</td>\n",
       "      <td>light</td>\n",
       "    </tr>\n",
       "    <tr>\n",
       "      <th>4</th>\n",
       "      <td>5</td>\n",
       "      <td>ryuk</td>\n",
       "    </tr>\n",
       "  </tbody>\n",
       "</table>\n",
       "</div>"
      ],
      "text/plain": [
       "   a     text\n",
       "0  1    isagi\n",
       "1  2  bachira\n",
       "2  3     eren\n",
       "3  4    light\n",
       "4  5     ryuk"
      ]
     },
     "execution_count": 61,
     "metadata": {},
     "output_type": "execute_result"
    }
   ],
   "source": [
    "data={'a':[1,2,3,4,5],\n",
    "      'text':['isagi','bachira','eren','light','ryuk']}\n",
    "df=pd.DataFrame(data)\n",
    "df"
   ]
  },
  {
   "cell_type": "code",
   "execution_count": 66,
   "id": "7c189917-b332-4f3c-84dc-8c53c263776f",
   "metadata": {},
   "outputs": [],
   "source": [
    "df['word_count']=df['text'].apply(lambda x : len(x))"
   ]
  },
  {
   "cell_type": "code",
   "execution_count": 67,
   "id": "bcce4128-ce66-4500-ade2-b2798b141f49",
   "metadata": {},
   "outputs": [
    {
     "data": {
      "text/html": [
       "<div>\n",
       "<style scoped>\n",
       "    .dataframe tbody tr th:only-of-type {\n",
       "        vertical-align: middle;\n",
       "    }\n",
       "\n",
       "    .dataframe tbody tr th {\n",
       "        vertical-align: top;\n",
       "    }\n",
       "\n",
       "    .dataframe thead th {\n",
       "        text-align: right;\n",
       "    }\n",
       "</style>\n",
       "<table border=\"1\" class=\"dataframe\">\n",
       "  <thead>\n",
       "    <tr style=\"text-align: right;\">\n",
       "      <th></th>\n",
       "      <th>a</th>\n",
       "      <th>text</th>\n",
       "      <th>word_count</th>\n",
       "    </tr>\n",
       "  </thead>\n",
       "  <tbody>\n",
       "    <tr>\n",
       "      <th>0</th>\n",
       "      <td>1</td>\n",
       "      <td>isagi</td>\n",
       "      <td>5</td>\n",
       "    </tr>\n",
       "    <tr>\n",
       "      <th>1</th>\n",
       "      <td>2</td>\n",
       "      <td>bachira</td>\n",
       "      <td>7</td>\n",
       "    </tr>\n",
       "    <tr>\n",
       "      <th>2</th>\n",
       "      <td>3</td>\n",
       "      <td>eren</td>\n",
       "      <td>4</td>\n",
       "    </tr>\n",
       "    <tr>\n",
       "      <th>3</th>\n",
       "      <td>4</td>\n",
       "      <td>light</td>\n",
       "      <td>5</td>\n",
       "    </tr>\n",
       "    <tr>\n",
       "      <th>4</th>\n",
       "      <td>5</td>\n",
       "      <td>ryuk</td>\n",
       "      <td>4</td>\n",
       "    </tr>\n",
       "  </tbody>\n",
       "</table>\n",
       "</div>"
      ],
      "text/plain": [
       "   a     text  word_count\n",
       "0  1    isagi           5\n",
       "1  2  bachira           7\n",
       "2  3     eren           4\n",
       "3  4    light           5\n",
       "4  5     ryuk           4"
      ]
     },
     "execution_count": 67,
     "metadata": {},
     "output_type": "execute_result"
    }
   ],
   "source": [
    "df"
   ]
  },
  {
   "cell_type": "markdown",
   "id": "d52e7fba-f6fe-4af4-a19b-e52e0f64ab74",
   "metadata": {},
   "source": [
    "5> DataFrame.size returns the total number of elements present in the dataframe(ie. number of rows multiplied by number of columns).\n",
    "    \n",
    "    DataFrame.share returns the dimensions of the data frame (ie. numberofcolumns * numberofrows)"
   ]
  },
  {
   "cell_type": "markdown",
   "id": "8ec4c5c5-76cf-41cc-ba43-59c09f5af440",
   "metadata": {},
   "source": [
    "6> pd.read_excel(\"filename\") is used to read an excel file."
   ]
  },
  {
   "cell_type": "markdown",
   "id": "0ecae8ea-1b16-4f96-93d1-28be0138e65e",
   "metadata": {},
   "source": [
    "7>"
   ]
  },
  {
   "cell_type": "code",
   "execution_count": 68,
   "id": "453674b1-7f27-4ef5-8e8d-1390a256c084",
   "metadata": {},
   "outputs": [],
   "source": [
    "data={\"email\":['isagi@gmail.com','bachira@gmail.com','eren@gmail.com','light@hotmail.com','ryuk@hotmail.com'],\n",
    "      \"age\":[18,20,21,24,26]}"
   ]
  },
  {
   "cell_type": "code",
   "execution_count": 70,
   "id": "813b2410-0364-463a-af67-bb9bbb6669fe",
   "metadata": {},
   "outputs": [
    {
     "data": {
      "text/html": [
       "<div>\n",
       "<style scoped>\n",
       "    .dataframe tbody tr th:only-of-type {\n",
       "        vertical-align: middle;\n",
       "    }\n",
       "\n",
       "    .dataframe tbody tr th {\n",
       "        vertical-align: top;\n",
       "    }\n",
       "\n",
       "    .dataframe thead th {\n",
       "        text-align: right;\n",
       "    }\n",
       "</style>\n",
       "<table border=\"1\" class=\"dataframe\">\n",
       "  <thead>\n",
       "    <tr style=\"text-align: right;\">\n",
       "      <th></th>\n",
       "      <th>email</th>\n",
       "      <th>age</th>\n",
       "    </tr>\n",
       "  </thead>\n",
       "  <tbody>\n",
       "    <tr>\n",
       "      <th>0</th>\n",
       "      <td>isagi@gmail.com</td>\n",
       "      <td>18</td>\n",
       "    </tr>\n",
       "    <tr>\n",
       "      <th>1</th>\n",
       "      <td>bachira@gmail.com</td>\n",
       "      <td>20</td>\n",
       "    </tr>\n",
       "    <tr>\n",
       "      <th>2</th>\n",
       "      <td>eren@gmail.com</td>\n",
       "      <td>21</td>\n",
       "    </tr>\n",
       "    <tr>\n",
       "      <th>3</th>\n",
       "      <td>light@hotmail.com</td>\n",
       "      <td>24</td>\n",
       "    </tr>\n",
       "    <tr>\n",
       "      <th>4</th>\n",
       "      <td>ryuk@hotmail.com</td>\n",
       "      <td>26</td>\n",
       "    </tr>\n",
       "  </tbody>\n",
       "</table>\n",
       "</div>"
      ],
      "text/plain": [
       "               email  age\n",
       "0    isagi@gmail.com   18\n",
       "1  bachira@gmail.com   20\n",
       "2     eren@gmail.com   21\n",
       "3  light@hotmail.com   24\n",
       "4   ryuk@hotmail.com   26"
      ]
     },
     "execution_count": 70,
     "metadata": {},
     "output_type": "execute_result"
    }
   ],
   "source": [
    "df=pd.DataFrame(data)\n",
    "df"
   ]
  },
  {
   "cell_type": "code",
   "execution_count": 75,
   "id": "23472d71-b711-4bfb-92d9-0e28a1dff8b1",
   "metadata": {},
   "outputs": [
    {
     "name": "stdout",
     "output_type": "stream",
     "text": [
      "isagi\n",
      "bachira\n",
      "eren\n",
      "light\n",
      "ryuk\n"
     ]
    }
   ],
   "source": [
    "for i in df['email']:\n",
    "    l=i.split('@')\n",
    "    print(l[0])"
   ]
  },
  {
   "cell_type": "markdown",
   "id": "9aa72129-af45-411b-a363-afbe9d892bad",
   "metadata": {},
   "source": [
    "8> "
   ]
  },
  {
   "cell_type": "code",
   "execution_count": 54,
   "id": "bc5cffef-4a72-4030-8eff-d494cd274a36",
   "metadata": {},
   "outputs": [
    {
     "data": {
      "text/html": [
       "<div>\n",
       "<style scoped>\n",
       "    .dataframe tbody tr th:only-of-type {\n",
       "        vertical-align: middle;\n",
       "    }\n",
       "\n",
       "    .dataframe tbody tr th {\n",
       "        vertical-align: top;\n",
       "    }\n",
       "\n",
       "    .dataframe thead th {\n",
       "        text-align: right;\n",
       "    }\n",
       "</style>\n",
       "<table border=\"1\" class=\"dataframe\">\n",
       "  <thead>\n",
       "    <tr style=\"text-align: right;\">\n",
       "      <th></th>\n",
       "      <th>A</th>\n",
       "      <th>B</th>\n",
       "      <th>C</th>\n",
       "    </tr>\n",
       "  </thead>\n",
       "  <tbody>\n",
       "    <tr>\n",
       "      <th>0</th>\n",
       "      <td>1</td>\n",
       "      <td>3</td>\n",
       "      <td>12</td>\n",
       "    </tr>\n",
       "    <tr>\n",
       "      <th>1</th>\n",
       "      <td>2</td>\n",
       "      <td>4</td>\n",
       "      <td>13</td>\n",
       "    </tr>\n",
       "    <tr>\n",
       "      <th>2</th>\n",
       "      <td>5</td>\n",
       "      <td>6</td>\n",
       "      <td>14</td>\n",
       "    </tr>\n",
       "    <tr>\n",
       "      <th>3</th>\n",
       "      <td>8</td>\n",
       "      <td>7</td>\n",
       "      <td>15</td>\n",
       "    </tr>\n",
       "    <tr>\n",
       "      <th>4</th>\n",
       "      <td>9</td>\n",
       "      <td>11</td>\n",
       "      <td>20</td>\n",
       "    </tr>\n",
       "    <tr>\n",
       "      <th>5</th>\n",
       "      <td>7</td>\n",
       "      <td>8</td>\n",
       "      <td>50</td>\n",
       "    </tr>\n",
       "  </tbody>\n",
       "</table>\n",
       "</div>"
      ],
      "text/plain": [
       "   A   B   C\n",
       "0  1   3  12\n",
       "1  2   4  13\n",
       "2  5   6  14\n",
       "3  8   7  15\n",
       "4  9  11  20\n",
       "5  7   8  50"
      ]
     },
     "execution_count": 54,
     "metadata": {},
     "output_type": "execute_result"
    }
   ],
   "source": [
    "data = {\"A\":[1,2,5,8,9,7],\n",
    "        \"B\":[3,4,6,7,11,8],\n",
    "        \"C\":[12,13,14,15,20,50]}\n",
    "df=pd.DataFrame(data)\n",
    "df"
   ]
  },
  {
   "cell_type": "code",
   "execution_count": 55,
   "id": "b98a9b22-b8c3-4b51-8f39-9f6285aa6ae3",
   "metadata": {},
   "outputs": [],
   "source": [
    "def select(df):\n",
    "    for i in range(len(df)):\n",
    "        filtered_df=df[(df['A']>5) &(df['B']<10)]\n",
    "        return (filtered_df)\n",
    "        #a=df[\"A\"][i]\n",
    "        #b=df[\"B\"][i]\n",
    "        #if(a>5 and b<10):\n",
    "         #   print(df[['A','B','C',[i]]])"
   ]
  },
  {
   "cell_type": "code",
   "execution_count": 56,
   "id": "1d17eae6-0aba-464b-a9d3-0dcc0ae33535",
   "metadata": {},
   "outputs": [
    {
     "name": "stdout",
     "output_type": "stream",
     "text": [
      "   A  B   C\n",
      "3  8  7  15\n",
      "5  7  8  50\n"
     ]
    }
   ],
   "source": [
    "print(select(df))"
   ]
  },
  {
   "cell_type": "code",
   "execution_count": 57,
   "id": "a442a971-1238-4453-aaae-ef4b97ad1217",
   "metadata": {},
   "outputs": [],
   "source": [
    "def select(df):\n",
    "    for i in range(len(df)):\n",
    "        filtered_df=df[(df['A']>5) &(df['B']<10)]\n",
    "        return (filtered_df[['A','B']])"
   ]
  },
  {
   "cell_type": "code",
   "execution_count": 58,
   "id": "7ad68ffe-c62c-432c-9aa4-ae1405c7603d",
   "metadata": {},
   "outputs": [
    {
     "name": "stdout",
     "output_type": "stream",
     "text": [
      "   A  B\n",
      "3  8  7\n",
      "5  7  8\n"
     ]
    }
   ],
   "source": [
    "print(select(df))"
   ]
  },
  {
   "cell_type": "markdown",
   "id": "62d0f264-97e6-41d2-b1e1-7fc637114463",
   "metadata": {},
   "source": [
    "9>"
   ]
  },
  {
   "cell_type": "code",
   "execution_count": 64,
   "id": "bde1a65e-1d15-4cf0-b463-e68cb9a21cd3",
   "metadata": {},
   "outputs": [],
   "source": [
    "data={\"name\":['isagi','bachira','eren','light','ryuk'],\n",
    "      \"values\":[2,4,6,8,10]}"
   ]
  },
  {
   "cell_type": "code",
   "execution_count": 65,
   "id": "c8452d27-491d-4160-82a9-8927ab08ff25",
   "metadata": {},
   "outputs": [
    {
     "data": {
      "text/html": [
       "<div>\n",
       "<style scoped>\n",
       "    .dataframe tbody tr th:only-of-type {\n",
       "        vertical-align: middle;\n",
       "    }\n",
       "\n",
       "    .dataframe tbody tr th {\n",
       "        vertical-align: top;\n",
       "    }\n",
       "\n",
       "    .dataframe thead th {\n",
       "        text-align: right;\n",
       "    }\n",
       "</style>\n",
       "<table border=\"1\" class=\"dataframe\">\n",
       "  <thead>\n",
       "    <tr style=\"text-align: right;\">\n",
       "      <th></th>\n",
       "      <th>name</th>\n",
       "      <th>values</th>\n",
       "    </tr>\n",
       "  </thead>\n",
       "  <tbody>\n",
       "    <tr>\n",
       "      <th>0</th>\n",
       "      <td>isagi</td>\n",
       "      <td>2</td>\n",
       "    </tr>\n",
       "    <tr>\n",
       "      <th>1</th>\n",
       "      <td>bachira</td>\n",
       "      <td>4</td>\n",
       "    </tr>\n",
       "    <tr>\n",
       "      <th>2</th>\n",
       "      <td>eren</td>\n",
       "      <td>6</td>\n",
       "    </tr>\n",
       "    <tr>\n",
       "      <th>3</th>\n",
       "      <td>light</td>\n",
       "      <td>8</td>\n",
       "    </tr>\n",
       "    <tr>\n",
       "      <th>4</th>\n",
       "      <td>ryuk</td>\n",
       "      <td>10</td>\n",
       "    </tr>\n",
       "  </tbody>\n",
       "</table>\n",
       "</div>"
      ],
      "text/plain": [
       "      name  values\n",
       "0    isagi       2\n",
       "1  bachira       4\n",
       "2     eren       6\n",
       "3    light       8\n",
       "4     ryuk      10"
      ]
     },
     "execution_count": 65,
     "metadata": {},
     "output_type": "execute_result"
    }
   ],
   "source": [
    "df=pd.DataFrame(data)\n",
    "df"
   ]
  },
  {
   "cell_type": "code",
   "execution_count": 69,
   "id": "8949f984-35b4-4215-a0b5-69c9bf069cc7",
   "metadata": {},
   "outputs": [
    {
     "data": {
      "text/plain": [
       "6.0"
      ]
     },
     "execution_count": 69,
     "metadata": {},
     "output_type": "execute_result"
    }
   ],
   "source": [
    "df['values'].mean()"
   ]
  },
  {
   "cell_type": "code",
   "execution_count": 71,
   "id": "8c71cfd2-4b29-4ca7-b1c6-b64dac6931f0",
   "metadata": {},
   "outputs": [
    {
     "data": {
      "text/plain": [
       "6.0"
      ]
     },
     "execution_count": 71,
     "metadata": {},
     "output_type": "execute_result"
    }
   ],
   "source": [
    "df['values'].median()"
   ]
  },
  {
   "cell_type": "code",
   "execution_count": 72,
   "id": "c3f22435-a74f-467f-b76e-1a4697ff755c",
   "metadata": {},
   "outputs": [
    {
     "data": {
      "text/plain": [
       "3.1622776601683795"
      ]
     },
     "execution_count": 72,
     "metadata": {},
     "output_type": "execute_result"
    }
   ],
   "source": [
    "df['values'].std()"
   ]
  },
  {
   "cell_type": "markdown",
   "id": "de0632e7-253d-495b-98cf-05a0cc693a0e",
   "metadata": {},
   "source": [
    "10>"
   ]
  },
  {
   "cell_type": "code",
   "execution_count": 73,
   "id": "471d4711-a070-4087-80af-2b60e6595f8f",
   "metadata": {},
   "outputs": [
    {
     "data": {
      "text/html": [
       "<div>\n",
       "<style scoped>\n",
       "    .dataframe tbody tr th:only-of-type {\n",
       "        vertical-align: middle;\n",
       "    }\n",
       "\n",
       "    .dataframe tbody tr th {\n",
       "        vertical-align: top;\n",
       "    }\n",
       "\n",
       "    .dataframe thead th {\n",
       "        text-align: right;\n",
       "    }\n",
       "</style>\n",
       "<table border=\"1\" class=\"dataframe\">\n",
       "  <thead>\n",
       "    <tr style=\"text-align: right;\">\n",
       "      <th></th>\n",
       "      <th>date</th>\n",
       "      <th>sales</th>\n",
       "    </tr>\n",
       "  </thead>\n",
       "  <tbody>\n",
       "    <tr>\n",
       "      <th>0</th>\n",
       "      <td>1/1/23</td>\n",
       "      <td>1000</td>\n",
       "    </tr>\n",
       "    <tr>\n",
       "      <th>1</th>\n",
       "      <td>2/1/23</td>\n",
       "      <td>500</td>\n",
       "    </tr>\n",
       "    <tr>\n",
       "      <th>2</th>\n",
       "      <td>4/1/23</td>\n",
       "      <td>2100</td>\n",
       "    </tr>\n",
       "    <tr>\n",
       "      <th>3</th>\n",
       "      <td>5/1/23</td>\n",
       "      <td>2300</td>\n",
       "    </tr>\n",
       "    <tr>\n",
       "      <th>4</th>\n",
       "      <td>6/1/23</td>\n",
       "      <td>3200</td>\n",
       "    </tr>\n",
       "    <tr>\n",
       "      <th>5</th>\n",
       "      <td>7/1/23</td>\n",
       "      <td>5000</td>\n",
       "    </tr>\n",
       "    <tr>\n",
       "      <th>6</th>\n",
       "      <td>8/1/23</td>\n",
       "      <td>5500</td>\n",
       "    </tr>\n",
       "  </tbody>\n",
       "</table>\n",
       "</div>"
      ],
      "text/plain": [
       "     date  sales\n",
       "0  1/1/23   1000\n",
       "1  2/1/23    500\n",
       "2  4/1/23   2100\n",
       "3  5/1/23   2300\n",
       "4  6/1/23   3200\n",
       "5  7/1/23   5000\n",
       "6  8/1/23   5500"
      ]
     },
     "execution_count": 73,
     "metadata": {},
     "output_type": "execute_result"
    }
   ],
   "source": [
    "data={\"date\":['1/1/23','2/1/23','4/1/23','5/1/23','6/1/23','7/1/23','8/1/23'],\n",
    "      \"sales\":[1000,500,2100,2300,3200,5000,5500]}\n",
    "df=pd.DataFrame(data)\n",
    "df"
   ]
  },
  {
   "cell_type": "code",
   "execution_count": 75,
   "id": "99688270-fc2f-4753-a7fc-6f61f874a384",
   "metadata": {},
   "outputs": [],
   "source": [
    "def moving_sales(df):\n",
    "    ma=df['sales'].rolling(window=7).mean()\n",
    "    return ma"
   ]
  },
  {
   "cell_type": "code",
   "execution_count": 76,
   "id": "0971b934-be2c-4818-8b8e-a47eb8e4eb5a",
   "metadata": {},
   "outputs": [
    {
     "data": {
      "text/plain": [
       "0       NaN\n",
       "1       NaN\n",
       "2       NaN\n",
       "3       NaN\n",
       "4       NaN\n",
       "5       NaN\n",
       "6    2800.0\n",
       "Name: sales, dtype: float64"
      ]
     },
     "execution_count": 76,
     "metadata": {},
     "output_type": "execute_result"
    }
   ],
   "source": [
    "moving_sales(df)"
   ]
  },
  {
   "cell_type": "markdown",
   "id": "3e23d7e4-444e-44b9-af11-212db44551cc",
   "metadata": {},
   "source": [
    "11>"
   ]
  },
  {
   "cell_type": "code",
   "execution_count": null,
   "id": "634ec2db-2429-4937-ab5a-23ea2115110e",
   "metadata": {},
   "outputs": [],
   "source": []
  },
  {
   "cell_type": "code",
   "execution_count": 9,
   "id": "67493b1d-9ca4-40be-b688-4ffaea965b22",
   "metadata": {},
   "outputs": [],
   "source": [
    "data={\"Date\":['2023-01-01',\"2023-01-02\",'2023-01-03','2023-01-04',\"2023-01-05\"]}\n",
    "df=pd.DataFrame(data)"
   ]
  },
  {
   "cell_type": "code",
   "execution_count": 10,
   "id": "6c1ba2d6-61f3-4357-a5d3-1468d8b3fe99",
   "metadata": {},
   "outputs": [],
   "source": [
    "def add_wekday(df):\n",
    "    df['Date']=pd.to_datetime(df['Date'])\n",
    "    df['Weekday']=df['Date'].dt.day_name()\n",
    "    return df\n",
    "    "
   ]
  },
  {
   "cell_type": "code",
   "execution_count": 11,
   "id": "dec97faa-6cef-44b4-b98a-8ee5db1cc30f",
   "metadata": {},
   "outputs": [
    {
     "data": {
      "text/html": [
       "<div>\n",
       "<style scoped>\n",
       "    .dataframe tbody tr th:only-of-type {\n",
       "        vertical-align: middle;\n",
       "    }\n",
       "\n",
       "    .dataframe tbody tr th {\n",
       "        vertical-align: top;\n",
       "    }\n",
       "\n",
       "    .dataframe thead th {\n",
       "        text-align: right;\n",
       "    }\n",
       "</style>\n",
       "<table border=\"1\" class=\"dataframe\">\n",
       "  <thead>\n",
       "    <tr style=\"text-align: right;\">\n",
       "      <th></th>\n",
       "      <th>Date</th>\n",
       "      <th>Weekday</th>\n",
       "    </tr>\n",
       "  </thead>\n",
       "  <tbody>\n",
       "    <tr>\n",
       "      <th>0</th>\n",
       "      <td>2023-01-01</td>\n",
       "      <td>Sunday</td>\n",
       "    </tr>\n",
       "    <tr>\n",
       "      <th>1</th>\n",
       "      <td>2023-01-02</td>\n",
       "      <td>Monday</td>\n",
       "    </tr>\n",
       "    <tr>\n",
       "      <th>2</th>\n",
       "      <td>2023-01-03</td>\n",
       "      <td>Tuesday</td>\n",
       "    </tr>\n",
       "    <tr>\n",
       "      <th>3</th>\n",
       "      <td>2023-01-04</td>\n",
       "      <td>Wednesday</td>\n",
       "    </tr>\n",
       "    <tr>\n",
       "      <th>4</th>\n",
       "      <td>2023-01-05</td>\n",
       "      <td>Thursday</td>\n",
       "    </tr>\n",
       "  </tbody>\n",
       "</table>\n",
       "</div>"
      ],
      "text/plain": [
       "        Date    Weekday\n",
       "0 2023-01-01     Sunday\n",
       "1 2023-01-02     Monday\n",
       "2 2023-01-03    Tuesday\n",
       "3 2023-01-04  Wednesday\n",
       "4 2023-01-05   Thursday"
      ]
     },
     "execution_count": 11,
     "metadata": {},
     "output_type": "execute_result"
    }
   ],
   "source": [
    "add_wekday(df)"
   ]
  },
  {
   "cell_type": "markdown",
   "id": "60e70309-92d8-4a85-b5d6-e4c0313192c6",
   "metadata": {},
   "source": [
    "12>"
   ]
  },
  {
   "cell_type": "code",
   "execution_count": 31,
   "id": "4ae312dc-e2e7-4be5-bca6-53856dc713be",
   "metadata": {},
   "outputs": [
    {
     "ename": "SyntaxError",
     "evalue": "closing parenthesis ']' does not match opening parenthesis '(' (356111016.py, line 4)",
     "output_type": "error",
     "traceback": [
      "\u001b[0;36m  Cell \u001b[0;32mIn[31], line 4\u001b[0;36m\u001b[0m\n\u001b[0;31m    a=df[(df['Date']<'2023-01-05'])&(df['Date']>'2023-01-01')]\u001b[0m\n\u001b[0m                                 ^\u001b[0m\n\u001b[0;31mSyntaxError\u001b[0m\u001b[0;31m:\u001b[0m closing parenthesis ']' does not match opening parenthesis '('\n"
     ]
    }
   ],
   "source": [
    "def timestamp(df):\n",
    "    #df['Date'] = pd.to_datetime(df['Date'])\n",
    "    #for i in range(len(df)+1):\n",
    "    a=df[(df['Date']<'2023-01-05'])&(df['Date']>'2023-01-01')]\n",
    "    print(a)"
   ]
  },
  {
   "cell_type": "code",
   "execution_count": 30,
   "id": "91605da3-8181-40a0-ad7a-07aee7283739",
   "metadata": {},
   "outputs": [
    {
     "name": "stdout",
     "output_type": "stream",
     "text": [
      "        Date    Weekday\n",
      "0 2023-01-01     Sunday\n",
      "1 2023-01-02     Monday\n",
      "2 2023-01-03    Tuesday\n",
      "3 2023-01-04  Wednesday\n"
     ]
    }
   ],
   "source": [
    "timestamp(df)"
   ]
  },
  {
   "cell_type": "code",
   "execution_count": null,
   "id": "e058b0a0-2110-43e7-8a16-728b1beeea11",
   "metadata": {},
   "outputs": [],
   "source": []
  }
 ],
 "metadata": {
  "kernelspec": {
   "display_name": "Python 3 (ipykernel)",
   "language": "python",
   "name": "python3"
  },
  "language_info": {
   "codemirror_mode": {
    "name": "ipython",
    "version": 3
   },
   "file_extension": ".py",
   "mimetype": "text/x-python",
   "name": "python",
   "nbconvert_exporter": "python",
   "pygments_lexer": "ipython3",
   "version": "3.10.8"
  }
 },
 "nbformat": 4,
 "nbformat_minor": 5
}
