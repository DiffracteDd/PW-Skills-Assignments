{
 "cells": [
  {
   "cell_type": "raw",
   "id": "d65cad86-cb4f-4c36-8456-048660d62fb0",
   "metadata": {},
   "source": [
    "1> The \"def\" keyword is used to create a function."
   ]
  },
  {
   "cell_type": "code",
   "execution_count": 2,
   "id": "c90aabd5-02df-40c5-8664-4c8e5c51613f",
   "metadata": {},
   "outputs": [
    {
     "name": "stdout",
     "output_type": "stream",
     "text": [
      "1\n",
      "3\n",
      "5\n",
      "7\n",
      "9\n",
      "11\n",
      "13\n",
      "15\n",
      "17\n",
      "19\n",
      "21\n",
      "23\n"
     ]
    }
   ],
   "source": [
    "def odd():\n",
    "    for i in range (1,25,2):\n",
    "        print(i)\n",
    "odd()"
   ]
  },
  {
   "cell_type": "raw",
   "id": "7666852a-c373-40c6-93fb-48210870c64f",
   "metadata": {},
   "source": [
    "2> *args is used to take any number of arguments as input where the input willl be accepted as a tuple.\n",
    "    **kwargs is used to take the key and value pairs as input.\n",
    "    "
   ]
  },
  {
   "cell_type": "code",
   "execution_count": 4,
   "id": "3c4d760a-7c81-4116-a0bc-cd46af751266",
   "metadata": {},
   "outputs": [],
   "source": [
    "  def test1(*args):\n",
    "        return args"
   ]
  },
  {
   "cell_type": "code",
   "execution_count": 6,
   "id": "d9914280-163a-4ba5-a899-faa9d1ac9423",
   "metadata": {},
   "outputs": [
    {
     "data": {
      "text/plain": [
       "(1, 2, 5, 3, 7, 9, 'soumik')"
      ]
     },
     "execution_count": 6,
     "metadata": {},
     "output_type": "execute_result"
    }
   ],
   "source": [
    "test1(1,2,5,3,7,9,\"soumik\")"
   ]
  },
  {
   "cell_type": "code",
   "execution_count": 7,
   "id": "2f056305-79ee-4aee-87e6-ecc5902fdcb1",
   "metadata": {},
   "outputs": [],
   "source": [
    "def test2(**kwargs):\n",
    "    return kwargs"
   ]
  },
  {
   "cell_type": "code",
   "execution_count": 9,
   "id": "a8b3d0ec-5822-4b17-905b-9e8c2e38e28d",
   "metadata": {},
   "outputs": [
    {
     "data": {
      "text/plain": [
       "{'a': 'soumik', 'b': 1234, 'c': 'sudh', 'd': 24.0}"
      ]
     },
     "execution_count": 9,
     "metadata": {},
     "output_type": "execute_result"
    }
   ],
   "source": [
    "test2(a=\"soumik\",b=1234,c=\"sudh\",d=24.0)"
   ]
  },
  {
   "cell_type": "markdown",
   "id": "21910d1a-7bdc-40d2-9fb4-326ce031901f",
   "metadata": {},
   "source": [
    "3> An iterator is an object that contains a countable number of values. The iterator can be iterated upon ie. all the values can be traversed through.\n",
    "    The method used to initialise the iterator is \"__iter__()\" and the method used to iterate through the values is \"__next__()\"."
   ]
  },
  {
   "cell_type": "code",
   "execution_count": 12,
   "id": "2112eb0e-1339-4f9b-b60a-910d5b3a823b",
   "metadata": {},
   "outputs": [
    {
     "name": "stdout",
     "output_type": "stream",
     "text": [
      "2\n",
      "4\n",
      "6\n",
      "8\n",
      "10\n"
     ]
    }
   ],
   "source": [
    "l=[2,4,6,8,10,12,14,16,18,20]\n",
    "a=iter(l)\n",
    "b=1\n",
    "while (b<=5):\n",
    "    print(next(a))\n",
    "    b=b+1\n"
   ]
  },
  {
   "cell_type": "raw",
   "id": "1eb6e1a4-c250-434d-82ad-19ded15db2e1",
   "metadata": {},
   "source": [
    "4> Python generator function allows user to declare a function that behaves like an iterator allowing the programmers to make an iterator an a fast,easy and clean way.\n",
    "    Yield keyword is used to create a generator function."
   ]
  },
  {
   "cell_type": "code",
   "execution_count": 7,
   "id": "b4213eac-0d0a-477b-bf8d-7e8ad0f4b0ec",
   "metadata": {},
   "outputs": [
    {
     "name": "stdout",
     "output_type": "stream",
     "text": [
      "0\n",
      "1\n",
      "1\n",
      "2\n",
      "3\n",
      "5\n",
      "8\n",
      "13\n",
      "21\n",
      "34\n"
     ]
    }
   ],
   "source": [
    "def test(n):\n",
    "    a,b=0,1\n",
    "    for i in range(n):\n",
    "        yield a\n",
    "        a,b=b,a+b\n",
    "for i in test(10):\n",
    "    print (i)\n",
    "    "
   ]
  },
  {
   "cell_type": "code",
   "execution_count": 21,
   "id": "6eeb9e3d-31fa-44a1-b140-63769bc3676d",
   "metadata": {},
   "outputs": [
    {
     "name": "stdout",
     "output_type": "stream",
     "text": [
      "2\n",
      "3\n",
      "5\n",
      "7\n",
      "11\n",
      "13\n",
      "17\n",
      "19\n",
      "23\n",
      "29\n",
      "31\n",
      "37\n",
      "41\n",
      "43\n",
      "47\n",
      "53\n",
      "59\n",
      "61\n",
      "67\n",
      "71\n",
      "73\n",
      "79\n",
      "83\n",
      "89\n",
      "97\n",
      "101\n",
      "103\n",
      "107\n",
      "109\n",
      "113\n",
      "127\n",
      "131\n",
      "137\n",
      "139\n",
      "149\n",
      "151\n",
      "157\n",
      "163\n",
      "167\n",
      "173\n",
      "179\n",
      "181\n",
      "191\n",
      "193\n",
      "197\n",
      "199\n",
      "211\n",
      "223\n",
      "227\n",
      "229\n",
      "233\n",
      "239\n",
      "241\n",
      "251\n",
      "257\n",
      "263\n",
      "269\n",
      "271\n",
      "277\n",
      "281\n",
      "283\n",
      "293\n",
      "307\n",
      "311\n",
      "313\n",
      "317\n",
      "331\n",
      "337\n",
      "347\n",
      "349\n",
      "353\n",
      "359\n",
      "367\n",
      "373\n",
      "379\n",
      "383\n",
      "389\n",
      "397\n",
      "401\n",
      "409\n",
      "419\n",
      "421\n",
      "431\n",
      "433\n",
      "439\n",
      "443\n",
      "449\n",
      "457\n",
      "461\n",
      "463\n",
      "467\n",
      "479\n",
      "487\n",
      "491\n",
      "499\n",
      "503\n",
      "509\n",
      "521\n",
      "523\n",
      "541\n",
      "547\n",
      "557\n",
      "563\n",
      "569\n",
      "571\n",
      "577\n",
      "587\n",
      "593\n",
      "599\n",
      "601\n",
      "607\n",
      "613\n",
      "617\n",
      "619\n",
      "631\n",
      "641\n",
      "643\n",
      "647\n",
      "653\n",
      "659\n",
      "661\n",
      "673\n",
      "677\n",
      "683\n",
      "691\n",
      "701\n",
      "709\n",
      "719\n",
      "727\n",
      "733\n",
      "739\n",
      "743\n",
      "751\n",
      "757\n",
      "761\n",
      "769\n",
      "773\n",
      "787\n",
      "797\n",
      "809\n",
      "811\n",
      "821\n",
      "823\n",
      "827\n",
      "829\n",
      "839\n",
      "853\n",
      "857\n",
      "859\n",
      "863\n",
      "877\n",
      "881\n",
      "883\n",
      "887\n",
      "907\n",
      "911\n",
      "919\n",
      "929\n",
      "937\n",
      "941\n",
      "947\n",
      "953\n",
      "967\n",
      "971\n",
      "977\n",
      "983\n",
      "991\n",
      "997\n"
     ]
    }
   ],
   "source": [
    "def gen():\n",
    "    for i in range(1000):\n",
    "        s=0\n",
    "        for j in range(1,i+1):\n",
    "            if(i%j==0):\n",
    "                s=s+1\n",
    "        if (s==2):\n",
    "            yield j\n",
    "for k in gen():\n",
    "    print (k)"
   ]
  },
  {
   "cell_type": "code",
   "execution_count": 24,
   "id": "8b130952-c985-41c3-992e-34950196f279",
   "metadata": {},
   "outputs": [
    {
     "ename": "TypeError",
     "evalue": "next expected at least 1 argument, got 0",
     "output_type": "error",
     "traceback": [
      "\u001b[0;31m---------------------------------------------------------------------------\u001b[0m",
      "\u001b[0;31mTypeError\u001b[0m                                 Traceback (most recent call last)",
      "Cell \u001b[0;32mIn[24], line 8\u001b[0m\n\u001b[1;32m      6\u001b[0m         s\u001b[38;5;241m=\u001b[39ms\u001b[38;5;241m+\u001b[39m\u001b[38;5;241m1\u001b[39m\n\u001b[1;32m      7\u001b[0m \u001b[38;5;28;01mif\u001b[39;00m (s\u001b[38;5;241m==\u001b[39m\u001b[38;5;241m2\u001b[39m):\n\u001b[0;32m----> 8\u001b[0m     \u001b[38;5;28mprint\u001b[39m(\u001b[38;5;28;43mnext\u001b[39;49m\u001b[43m(\u001b[49m\u001b[43m)\u001b[49m)\n\u001b[1;32m      9\u001b[0m i\u001b[38;5;241m=\u001b[39mi\u001b[38;5;241m+\u001b[39m\u001b[38;5;241m1\u001b[39m\n",
      "\u001b[0;31mTypeError\u001b[0m: next expected at least 1 argument, got 0"
     ]
    }
   ],
   "source": [
    "i=1;\n",
    "while (i<=1000):\n",
    "    s=0\n",
    "    for j in range(1,i):\n",
    "        if (i%j)==0:\n",
    "            s=s+1\n",
    "    if (s==2):\n",
    "        print(next())\n",
    "    i=i+1\n",
    "    \n",
    "  \n"
   ]
  },
  {
   "cell_type": "code",
   "execution_count": null,
   "id": "7783a18b-ae17-4227-8372-5625944b0e31",
   "metadata": {},
   "outputs": [],
   "source": []
  },
  {
   "cell_type": "code",
   "execution_count": null,
   "id": "2fd34686-9a8d-44ce-a721-6d916dc64f24",
   "metadata": {},
   "outputs": [],
   "source": []
  }
 ],
 "metadata": {
  "kernelspec": {
   "display_name": "Python 3 (ipykernel)",
   "language": "python",
   "name": "python3"
  },
  "language_info": {
   "codemirror_mode": {
    "name": "ipython",
    "version": 3
   },
   "file_extension": ".py",
   "mimetype": "text/x-python",
   "name": "python",
   "nbconvert_exporter": "python",
   "pygments_lexer": "ipython3",
   "version": "3.10.8"
  }
 },
 "nbformat": 4,
 "nbformat_minor": 5
}
