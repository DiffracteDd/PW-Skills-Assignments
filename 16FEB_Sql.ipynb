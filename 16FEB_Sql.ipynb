{
 "cells": [
  {
   "cell_type": "markdown",
   "id": "bfd236ca-992d-43e2-9d85-ce46d36904b2",
   "metadata": {},
   "source": [
    "Q1> A database is an organized collection of structured information or data typically stored electronically in a computer system.\n",
    "\n",
    "    SQL is the programming language used to interface with relational databases. (Relational databases model data as records in rows and tables with logical links between them). NoSQL is a class of DBMs that are non-relational and generally do not use SQL."
   ]
  },
  {
   "cell_type": "markdown",
   "id": "46b4eb25-41ac-47ec-96ff-0c5dd9bb0aca",
   "metadata": {},
   "source": [
    "Q2> DDL stands for Data Definition Language which are used to create and modify the structure of a database.\n",
    "\n",
    "    create is used to create a table.\n",
    "    drop is used to delete a table.\n",
    "    alter is used to change the structure of a table.\n",
    "    truncate is used to truncate a number to the specified number of decimal places."
   ]
  },
  {
   "cell_type": "markdown",
   "id": "049ac672-2c1f-4e49-bbf7-c099fec7cfff",
   "metadata": {},
   "source": [
    "Q3> DML stands for data manipulation language which is used to manipulate data in a database.\n",
    "\n",
    "    insert is used to add dara into a table.\n",
    "    update is used to change the data in a table.\n",
    "    delete is used to delete a data in a table.\n"
   ]
  },
  {
   "cell_type": "markdown",
   "id": "49717c97-6da0-486a-b629-c244ea4a0034",
   "metadata": {},
   "source": [
    "Q4> DQL is a portion of a SQL statement that allows us to get and organise data from a database.\n",
    "\n",
    "    select command is used to extract data from a database table."
   ]
  },
  {
   "cell_type": "markdown",
   "id": "06e48ee5-5bc7-49a7-ab75-e752c20b7a67",
   "metadata": {},
   "source": [
    "Q5> Primary key is used to assign unique values to attributes in a table .\n",
    "\n",
    "    Foreign key is used to connect two tables having the same attribute."
   ]
  },
  {
   "cell_type": "code",
   "execution_count": 8,
   "id": "a99424b5-e0c4-4b5e-9526-5e8ddd0267a6",
   "metadata": {},
   "outputs": [],
   "source": [
    "#Q6> #import mysql.connector\n",
    "# import mysql.connector\n",
    "#create user 'user'@'%' identified by 'password'\n",
    "#mydb = mysql.connector.connect(\n",
    "#  host=\"localhost\",\n",
    "#  user=\"abc\",\n",
    "#  password=\"password\"\n",
    "#)\n",
    "#print(mydb)\n",
    "#mycursor = mydb.cursor()\n",
    "#mycursor.execute(\"CREATE DATABASE IF NOT EXISTS test1\")\n",
    "#mycursor.execute(\"CREATE TABLE IF NOT EXISTS test1.test_table  (C1 INT , C2 VARCHAR(50),C3 INT, C4 FLOAT ,C5 VARCHAR(40));\")\n",
    "#mydb.close()\n"
   ]
  },
  {
   "cell_type": "raw",
   "id": "785dfbd4-2cbd-4017-be27-06d658a56bbb",
   "metadata": {},
   "source": [
    "Q7> "
   ]
  }
 ],
 "metadata": {
  "kernelspec": {
   "display_name": "Python 3 (ipykernel)",
   "language": "python",
   "name": "python3"
  },
  "language_info": {
   "codemirror_mode": {
    "name": "ipython",
    "version": 3
   },
   "file_extension": ".py",
   "mimetype": "text/x-python",
   "name": "python",
   "nbconvert_exporter": "python",
   "pygments_lexer": "ipython3",
   "version": "3.10.8"
  }
 },
 "nbformat": 4,
 "nbformat_minor": 5
}
