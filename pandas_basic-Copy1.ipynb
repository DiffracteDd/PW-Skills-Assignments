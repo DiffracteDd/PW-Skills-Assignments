{
 "cells": [
  {
   "cell_type": "code",
   "execution_count": 15,
   "id": "cc9791b5-0299-496d-b359-d394aaf6f552",
   "metadata": {},
   "outputs": [],
   "source": [
    "import pandas as pd"
   ]
  },
  {
   "cell_type": "markdown",
   "id": "c9d47b0f-1061-4d3e-8e45-6cc5d2f057e2",
   "metadata": {},
   "source": [
    "1> "
   ]
  },
  {
   "cell_type": "code",
   "execution_count": 20,
   "id": "eae5c5e6-fb07-48e9-ab62-54b33bfaf410",
   "metadata": {},
   "outputs": [
    {
     "data": {
      "text/plain": [
       "0     4\n",
       "1     8\n",
       "2    15\n",
       "3    16\n",
       "4    23\n",
       "5    42\n",
       "dtype: int64"
      ]
     },
     "execution_count": 20,
     "metadata": {},
     "output_type": "execute_result"
    }
   ],
   "source": [
    "pf=[4,8,15,16,23,42]\n",
    "pf=pd.Series(pf)\n",
    "pf"
   ]
  },
  {
   "cell_type": "markdown",
   "id": "0326d10c-42aa-4925-9dec-f0f986295dd7",
   "metadata": {},
   "source": [
    "2>"
   ]
  },
  {
   "cell_type": "code",
   "execution_count": 27,
   "id": "698e6ec6-0a65-494f-9410-e6a61c049746",
   "metadata": {},
   "outputs": [
    {
     "data": {
      "text/plain": [
       "0    abc\n",
       "1    def\n",
       "2      i\n",
       "3      j\n",
       "4     kl\n",
       "5     mn\n",
       "6     op\n",
       "7     qr\n",
       "8     st\n",
       "9     uv\n",
       "dtype: object"
      ]
     },
     "execution_count": 27,
     "metadata": {},
     "output_type": "execute_result"
    }
   ],
   "source": [
    "l=['abc','def','i','j','kl','mn','op','qr','st','uv']\n",
    "l=pd.Series(l)\n",
    "l"
   ]
  },
  {
   "cell_type": "markdown",
   "id": "0aa9a204-92a4-4f87-af16-26ae5c6e3d81",
   "metadata": {},
   "source": [
    "3>"
   ]
  },
  {
   "cell_type": "code",
   "execution_count": null,
   "id": "7d6edd14-c0e4-4dba-95f5-c2a7f8a61b36",
   "metadata": {},
   "outputs": [
    {
     "data": {
      "text/html": [
       "<div>\n",
       "<style scoped>\n",
       "    .dataframe tbody tr th:only-of-type {\n",
       "        vertical-align: middle;\n",
       "    }\n",
       "\n",
       "    .dataframe tbody tr th {\n",
       "        vertical-align: top;\n",
       "    }\n",
       "\n",
       "    .dataframe thead th {\n",
       "        text-align: right;\n",
       "    }\n",
       "</style>\n",
       "<table border=\"1\" class=\"dataframe\">\n",
       "  <thead>\n",
       "    <tr style=\"text-align: right;\">\n",
       "      <th></th>\n",
       "      <th>Name</th>\n",
       "      <th>Age</th>\n",
       "      <th>Gender</th>\n",
       "    </tr>\n",
       "  </thead>\n",
       "  <tbody>\n",
       "    <tr>\n",
       "      <th>0</th>\n",
       "      <td>Alice</td>\n",
       "      <td>25</td>\n",
       "      <td>Female</td>\n",
       "    </tr>\n",
       "    <tr>\n",
       "      <th>1</th>\n",
       "      <td>Bob</td>\n",
       "      <td>30</td>\n",
       "      <td>Male</td>\n",
       "    </tr>\n",
       "    <tr>\n",
       "      <th>2</th>\n",
       "      <td>Claire</td>\n",
       "      <td>27</td>\n",
       "      <td>Female</td>\n",
       "    </tr>\n",
       "  </tbody>\n",
       "</table>\n",
       "</div>"
      ],
      "text/plain": [
       "     Name  Age  Gender\n",
       "0   Alice   25  Female\n",
       "1     Bob   30    Male\n",
       "2  Claire   27  Female"
      ]
     },
     "execution_count": 30,
     "metadata": {},
     "output_type": "execute_result"
    }
   ],
   "source": [
    "pf=[['Alice',25,'Female'],['Bob',30,'Male'],['Claire',27,'Female']]\n",
    "pf=pd.DataFrame(pf,columns=['Name','Age','Gender'])\n",
    "pf"
   ]
  },
  {
   "cell_type": "markdown",
   "id": "f5413f9d-3490-40e6-958c-ddf3fa49ab5b",
   "metadata": {},
   "source": [
    "4> Series in pandas contains a single list which can store heterogeneous type of data, because of this, series is also considered as a 1-dimensional data structure. On the other hand, DataFrame is a 2-dimensional data structure which contains multiple lists of heterogeneous type of data."
   ]
  },
  {
   "cell_type": "markdown",
   "id": "e927c570-2205-4eaf-aaad-fd37af87cd0e",
   "metadata": {},
   "source": [
    "5> Common funnctions used to manipulate the data in Pandas DataFrame is loc and iloc."
   ]
  },
  {
   "cell_type": "markdown",
   "id": "a5a47961-ddc0-4d52-8702-41eed71fab82",
   "metadata": {},
   "source": [
    "6> Series is immutable whereas both DataFrames and Panels are mutable."
   ]
  },
  {
   "cell_type": "markdown",
   "id": "68ae5abb-bab0-48d3-bffb-a3da6747b724",
   "metadata": {},
   "source": [
    "7>"
   ]
  },
  {
   "cell_type": "code",
   "execution_count": 36,
   "id": "a5a05d17-031b-4316-a3fa-180a032d4e07",
   "metadata": {},
   "outputs": [],
   "source": [
    "author=['Naruto','Isagi','Baki','Itadori','Eren']\n",
    "article=[112,234,456,12,456]\n",
    "author=pd.Series(author)\n",
    "article=pd.Series(article)"
   ]
  },
  {
   "cell_type": "code",
   "execution_count": 37,
   "id": "4aec727a-124c-4614-8a26-65e2813ecc15",
   "metadata": {},
   "outputs": [
    {
     "data": {
      "text/plain": [
       "0     Naruto\n",
       "1      Isagi\n",
       "2       Baki\n",
       "3    Itadori\n",
       "4       Eren\n",
       "dtype: object"
      ]
     },
     "execution_count": 37,
     "metadata": {},
     "output_type": "execute_result"
    }
   ],
   "source": [
    "author"
   ]
  },
  {
   "cell_type": "code",
   "execution_count": 38,
   "id": "15ab2fc2-5514-442d-8a7e-2b5fa8240d37",
   "metadata": {},
   "outputs": [
    {
     "data": {
      "text/plain": [
       "0    112\n",
       "1    234\n",
       "2    456\n",
       "3     12\n",
       "4    456\n",
       "dtype: int64"
      ]
     },
     "execution_count": 38,
     "metadata": {},
     "output_type": "execute_result"
    }
   ],
   "source": [
    "article"
   ]
  },
  {
   "cell_type": "code",
   "execution_count": 39,
   "id": "67fcec5a-aa2a-44a8-ab0f-7ed8b15c4368",
   "metadata": {},
   "outputs": [],
   "source": [
    "author=pd.DataFrame({'Author':author,'Article':article})"
   ]
  },
  {
   "cell_type": "code",
   "execution_count": 40,
   "id": "f4f18a66-26c0-403c-8777-6ebbe22bdfa9",
   "metadata": {},
   "outputs": [
    {
     "data": {
      "text/html": [
       "<div>\n",
       "<style scoped>\n",
       "    .dataframe tbody tr th:only-of-type {\n",
       "        vertical-align: middle;\n",
       "    }\n",
       "\n",
       "    .dataframe tbody tr th {\n",
       "        vertical-align: top;\n",
       "    }\n",
       "\n",
       "    .dataframe thead th {\n",
       "        text-align: right;\n",
       "    }\n",
       "</style>\n",
       "<table border=\"1\" class=\"dataframe\">\n",
       "  <thead>\n",
       "    <tr style=\"text-align: right;\">\n",
       "      <th></th>\n",
       "      <th>Author</th>\n",
       "      <th>Article</th>\n",
       "    </tr>\n",
       "  </thead>\n",
       "  <tbody>\n",
       "    <tr>\n",
       "      <th>0</th>\n",
       "      <td>Naruto</td>\n",
       "      <td>112</td>\n",
       "    </tr>\n",
       "    <tr>\n",
       "      <th>1</th>\n",
       "      <td>Isagi</td>\n",
       "      <td>234</td>\n",
       "    </tr>\n",
       "    <tr>\n",
       "      <th>2</th>\n",
       "      <td>Baki</td>\n",
       "      <td>456</td>\n",
       "    </tr>\n",
       "    <tr>\n",
       "      <th>3</th>\n",
       "      <td>Itadori</td>\n",
       "      <td>12</td>\n",
       "    </tr>\n",
       "    <tr>\n",
       "      <th>4</th>\n",
       "      <td>Eren</td>\n",
       "      <td>456</td>\n",
       "    </tr>\n",
       "  </tbody>\n",
       "</table>\n",
       "</div>"
      ],
      "text/plain": [
       "    Author  Article\n",
       "0   Naruto      112\n",
       "1    Isagi      234\n",
       "2     Baki      456\n",
       "3  Itadori       12\n",
       "4     Eren      456"
      ]
     },
     "execution_count": 40,
     "metadata": {},
     "output_type": "execute_result"
    }
   ],
   "source": [
    "author"
   ]
  },
  {
   "cell_type": "code",
   "execution_count": null,
   "id": "1b0d726d-d355-4fbb-bd55-7057caa870be",
   "metadata": {},
   "outputs": [],
   "source": []
  }
 ],
 "metadata": {
  "kernelspec": {
   "display_name": "Python 3 (ipykernel)",
   "language": "python",
   "name": "python3"
  },
  "language_info": {
   "codemirror_mode": {
    "name": "ipython",
    "version": 3
   },
   "file_extension": ".py",
   "mimetype": "text/x-python",
   "name": "python",
   "nbconvert_exporter": "python",
   "pygments_lexer": "ipython3",
   "version": "3.10.8"
  }
 },
 "nbformat": 4,
 "nbformat_minor": 5
}
