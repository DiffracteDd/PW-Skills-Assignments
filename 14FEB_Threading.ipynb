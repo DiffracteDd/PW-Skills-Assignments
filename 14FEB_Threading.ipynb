{
 "cells": [
  {
   "cell_type": "markdown",
   "id": "f6e863a6-f34f-40f1-b11a-d8a48496c04f",
   "metadata": {},
   "source": [
    "Q1> the ability of a processor to execute multiple threads simultaneously is known as multithreading. Python multithreading facilitates sharing data space and resources of multiple threads with the main thread. It allows efficient and easy communication between the threads.\n",
    "    \n",
    "    The thread and threading module is used to handle threads in Python."
   ]
  },
  {
   "cell_type": "markdown",
   "id": "9d73bd96-dc70-4310-9294-97b7a1b3ce29",
   "metadata": {},
   "source": [
    "Q2> Python theading allows the user to execute to run different parts of the program concurrently thereby increasing the efficiency of the CPU.\n",
    "    \n",
    "    a> activeCount() is used to count the number of currently active threads or running threads.\n",
    "    b> currentThread() is used to return the current Thread object which corresponds to the callers thread of control.\n",
    "    c> enumerate() allows us to literate through a sequence but keeps track of both the index and the element."
   ]
  },
  {
   "cell_type": "markdown",
   "id": "f2428b7b-0fe2-4b4f-a3f2-45d76d93704a",
   "metadata": {},
   "source": [
    "Q3> \n",
    "    \n",
    "    run() method is used to represent a thread's activities.\n",
    "    start() method is used to start a thread's activities.\n",
    "    join() delays a program's flow of execution until the target thread has been completely read.\n",
    "    isAlive() method returns True if the thread is still running and False if the thread is not running.\n",
    "    \n",
    "    \n"
   ]
  },
  {
   "cell_type": "markdown",
   "id": "10013ec8-1430-480a-928c-ccd5fb238ee5",
   "metadata": {},
   "source": [
    "Q4>"
   ]
  },
  {
   "cell_type": "code",
   "execution_count": 16,
   "id": "25fdeefe-a9d6-416f-aeaf-4715de235a9a",
   "metadata": {},
   "outputs": [],
   "source": [
    "import threading\n",
    "def square(n):\n",
    "    print (n*n)\n",
    "def cube(n):\n",
    "    print( n*n*n)\n",
    "thred1=[threading.Thread(target=square,args=(i,)) for i in [1,2,3,4,5]]"
   ]
  },
  {
   "cell_type": "code",
   "execution_count": 17,
   "id": "3aef89d1-4bc5-4830-88a4-166e2e7d24fc",
   "metadata": {},
   "outputs": [
    {
     "name": "stdout",
     "output_type": "stream",
     "text": [
      "1\n",
      "4\n",
      "9\n",
      "16\n",
      "25\n"
     ]
    }
   ],
   "source": [
    "for t in thred1:\n",
    "    t.start()"
   ]
  },
  {
   "cell_type": "code",
   "execution_count": 18,
   "id": "05aac7b7-c1d2-46fb-9a90-683327521cf9",
   "metadata": {},
   "outputs": [],
   "source": [
    "thred2=[threading.Thread(target=cube,args=(i,)) for i in [1,2,3,4,5]]"
   ]
  },
  {
   "cell_type": "code",
   "execution_count": 19,
   "id": "08aa4be7-b0a2-4afa-b24d-21b369bd161d",
   "metadata": {},
   "outputs": [
    {
     "name": "stdout",
     "output_type": "stream",
     "text": [
      "1\n",
      "8\n",
      "27\n",
      "64\n",
      "125\n"
     ]
    }
   ],
   "source": [
    "for j in thred2:\n",
    "    j.start()"
   ]
  },
  {
   "cell_type": "markdown",
   "id": "fa8b6774-0c3d-4c7e-ab80-34aab7c518d7",
   "metadata": {},
   "source": [
    "Q5> Advantages of multithreading in Python:\n",
    "    \n",
    "    a)Enhanced performance by decreased development time\n",
    "    b)Simplified and streamlined program coding\n",
    "    c)Improvised GUI responsiveness\n",
    "    d)Simultaneous and parallelized occurrence of tasks\n",
    "\n",
    "Disadvantages of multithreading in Python :\n",
    "\n",
    "    a) Complex debugging and testing processes\n",
    "    b) Overhead switching of context\n",
    "    c) Increased potential for deadlock occurrence\n",
    "    d) Increased difficulty level in writing a program\n",
    "    e) Unpredictable results"
   ]
  },
  {
   "cell_type": "markdown",
   "id": "dc9e7087-880a-415d-8ce8-72763593690a",
   "metadata": {},
   "source": [
    "Q6> A deadlock occurs when two threads each lock a different variable at the same time and then try to lock the variable that the other thread had locked.As a result each thread stops executing and waits for the other thread to release the lock\n",
    "    \n",
    "    A race condition occurs when two threads access a shared variable at the same tome\n"
   ]
  }
 ],
 "metadata": {
  "kernelspec": {
   "display_name": "Python 3 (ipykernel)",
   "language": "python",
   "name": "python3"
  },
  "language_info": {
   "codemirror_mode": {
    "name": "ipython",
    "version": 3
   },
   "file_extension": ".py",
   "mimetype": "text/x-python",
   "name": "python",
   "nbconvert_exporter": "python",
   "pygments_lexer": "ipython3",
   "version": "3.10.8"
  }
 },
 "nbformat": 4,
 "nbformat_minor": 5
}
