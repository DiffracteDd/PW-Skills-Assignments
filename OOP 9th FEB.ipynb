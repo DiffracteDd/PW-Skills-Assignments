{
 "cells": [
  {
   "cell_type": "markdown",
   "id": "a717dec6-117f-43c5-8e67-33aa87d30fbc",
   "metadata": {},
   "source": [
    "Q1>"
   ]
  },
  {
   "cell_type": "code",
   "execution_count": 4,
   "id": "5029155f-c4ab-49cf-a3cc-c785452c88bc",
   "metadata": {},
   "outputs": [],
   "source": [
    "class vehicle:\n",
    "    def __init__(self,name_of_vehicle,max_speed,average_of_vehicle):\n",
    "        self.name_of_vehicle=name_of_vehicle\n",
    "        self.max_speed=max_speed\n",
    "        self.average_of_vehicle=average_of_vehicle\n",
    "    def return_vehicle_details(self):\n",
    "        return self.name_of_vehicle,self.max_speed,self.average_of_vehicle\n",
    "    "
   ]
  },
  {
   "cell_type": "code",
   "execution_count": 9,
   "id": "6546316e-47bf-4af7-a4f3-604d553bfde1",
   "metadata": {},
   "outputs": [],
   "source": [
    "vroom=vehicle(\"lambo\",\"202 miles/hr\",\"3.8 km/l\")"
   ]
  },
  {
   "cell_type": "code",
   "execution_count": 10,
   "id": "0b04b7b3-b5fb-4a36-a691-8738d7fd4d51",
   "metadata": {},
   "outputs": [
    {
     "data": {
      "text/plain": [
       "'lambo'"
      ]
     },
     "execution_count": 10,
     "metadata": {},
     "output_type": "execute_result"
    }
   ],
   "source": [
    "vroom.name_of_vehicle"
   ]
  },
  {
   "cell_type": "code",
   "execution_count": 11,
   "id": "c5ea74c1-6bcc-4b03-b060-73f07acfe45a",
   "metadata": {},
   "outputs": [
    {
     "data": {
      "text/plain": [
       "'202 miles/hr'"
      ]
     },
     "execution_count": 11,
     "metadata": {},
     "output_type": "execute_result"
    }
   ],
   "source": [
    "vroom.max_speed"
   ]
  },
  {
   "cell_type": "code",
   "execution_count": 12,
   "id": "5cceb30c-b5b9-49e3-a2af-60a796664c1f",
   "metadata": {},
   "outputs": [
    {
     "data": {
      "text/plain": [
       "'3.8 km/l'"
      ]
     },
     "execution_count": 12,
     "metadata": {},
     "output_type": "execute_result"
    }
   ],
   "source": [
    "vroom.average_of_vehicle"
   ]
  },
  {
   "cell_type": "code",
   "execution_count": null,
   "id": "ccf5e067-8c47-4ca3-82bc-9cea41929a89",
   "metadata": {},
   "outputs": [],
   "source": []
  },
  {
   "cell_type": "markdown",
   "id": "0b42aafe-6777-4c0e-9808-569d2bfd198f",
   "metadata": {},
   "source": [
    "Q2>"
   ]
  },
  {
   "cell_type": "code",
   "execution_count": 19,
   "id": "bf8038b0-b182-4eee-9b63-de3b35a26ecc",
   "metadata": {},
   "outputs": [],
   "source": [
    "class car(vehicle):\n",
    "    def __init__(self,seating_capacity):\n",
    "        self.seating_capacity=seating_capacity\n",
    "   # def seating_capacity(self,seating_capacity):\n",
    "    #    self.seating_capacity=seating_capacity\n",
    "    def return_seating(self):\n",
    "        return self.seating_capacity"
   ]
  },
  {
   "cell_type": "code",
   "execution_count": 23,
   "id": "c067ebf4-4f62-4d5b-8cdc-5ea107fc15df",
   "metadata": {},
   "outputs": [
    {
     "ename": "TypeError",
     "evalue": "car.__init__() takes 2 positional arguments but 5 were given",
     "output_type": "error",
     "traceback": [
      "\u001b[0;31m---------------------------------------------------------------------------\u001b[0m",
      "\u001b[0;31mTypeError\u001b[0m                                 Traceback (most recent call last)",
      "Cell \u001b[0;32mIn[23], line 1\u001b[0m\n\u001b[0;32m----> 1\u001b[0m vroom2\u001b[38;5;241m=\u001b[39m\u001b[43mcar\u001b[49m\u001b[43m(\u001b[49m\u001b[38;5;124;43m\"\u001b[39;49m\u001b[38;5;124;43mcamaro\u001b[39;49m\u001b[38;5;124;43m\"\u001b[39;49m\u001b[43m,\u001b[49m\u001b[38;5;124;43m\"\u001b[39;49m\u001b[38;5;124;43m190 km/hr\u001b[39;49m\u001b[38;5;124;43m\"\u001b[39;49m\u001b[43m,\u001b[49m\u001b[38;5;124;43m\"\u001b[39;49m\u001b[38;5;124;43m10 km/l\u001b[39;49m\u001b[38;5;124;43m\"\u001b[39;49m\u001b[43m,\u001b[49m\u001b[38;5;241;43m21\u001b[39;49m\u001b[43m)\u001b[49m\n",
      "\u001b[0;31mTypeError\u001b[0m: car.__init__() takes 2 positional arguments but 5 were given"
     ]
    }
   ],
   "source": [
    "vroom2=car(\"camaro\",\"190 km/hr\",\"10 km/l\",21)"
   ]
  },
  {
   "cell_type": "code",
   "execution_count": 25,
   "id": "ccc1fa6a-cba7-4ee5-af6f-10c0c8a13e57",
   "metadata": {},
   "outputs": [
    {
     "data": {
      "text/plain": [
       "21"
      ]
     },
     "execution_count": 25,
     "metadata": {},
     "output_type": "execute_result"
    }
   ],
   "source": [
    "vroom2.seating_capacity"
   ]
  },
  {
   "cell_type": "markdown",
   "id": "05f23a52-93d5-4004-8204-c148ceff6bad",
   "metadata": {},
   "source": [
    "Q3>"
   ]
  },
  {
   "cell_type": "markdown",
   "id": "a94a43d1-a311-4833-a317-c3a95bae4449",
   "metadata": {},
   "source": [
    "Multiple inheritance is a feature in Python that allows a class to inherit attributes and methods from more than one parent class. In other words, a subclass can inherit from multiple base classes."
   ]
  },
  {
   "cell_type": "markdown",
   "id": "060683cf-ce12-4043-8544-334be79a8697",
   "metadata": {},
   "source": [
    "class MyClass(BaseClass1, BaseClass2, BaseClass3):\n",
    "    # class definition\n"
   ]
  },
  {
   "cell_type": "markdown",
   "id": "2463bf72-3956-4971-8973-160ece6a8e11",
   "metadata": {},
   "source": [
    "Q4>"
   ]
  },
  {
   "cell_type": "markdown",
   "id": "a43e9e2c-bb54-4c1e-9248-680cc5818bd2",
   "metadata": {},
   "source": [
    "In Python, getter and setter methods are used to control access to the attributes of an object. These methods are also known as accessor and mutator methods.\n",
    "    Getter methods are used to retrieve the value of an attribute, while setter methods are used to set or modify the value of an attribute. They are typically used to enforce data encapsulation, meaning that the internal state of an object is hidden from the outside world and can only be accessed through these methods.\n",
    "    "
   ]
  },
  {
   "cell_type": "markdown",
   "id": "3089442e-46d7-4aaf-b436-287528a73ab7",
   "metadata": {},
   "source": [
    "example:\n",
    "    "
   ]
  },
  {
   "cell_type": "code",
   "execution_count": 27,
   "id": "a195fb92-7187-4a9a-9ef9-3b4c73c98030",
   "metadata": {},
   "outputs": [],
   "source": [
    "class MyClass:\n",
    "    def __init__(self, x):\n",
    "        self.__x = x\n",
    "\n",
    "    def get_x(self):\n",
    "        return self.__x\n",
    "\n",
    "    def set_x(self, value):\n",
    "        self.__x = value\n"
   ]
  },
  {
   "cell_type": "markdown",
   "id": "ae94c04d-b50b-4496-ab29-ba24202e6272",
   "metadata": {},
   "source": [
    "Q5>"
   ]
  },
  {
   "cell_type": "markdown",
   "id": "a4877298-444e-4df7-b5d2-d619570b1b76",
   "metadata": {},
   "source": [
    "In Python, method overriding is a feature of object-oriented programming that allows a subclass to provide its own implementation of a method that is already defined in its superclass."
   ]
  },
  {
   "cell_type": "code",
   "execution_count": null,
   "id": "a64c33d4-d477-43fb-805b-dce2f4d4d13c",
   "metadata": {},
   "outputs": [],
   "source": []
  }
 ],
 "metadata": {
  "kernelspec": {
   "display_name": "Python 3 (ipykernel)",
   "language": "python",
   "name": "python3"
  },
  "language_info": {
   "codemirror_mode": {
    "name": "ipython",
    "version": 3
   },
   "file_extension": ".py",
   "mimetype": "text/x-python",
   "name": "python",
   "nbconvert_exporter": "python",
   "pygments_lexer": "ipython3",
   "version": "3.10.8"
  }
 },
 "nbformat": 4,
 "nbformat_minor": 5
}
