{
 "cells": [
  {
   "cell_type": "markdown",
   "id": "956609a9-3f78-49ea-8676-608c69ebe193",
   "metadata": {},
   "source": [
    "Q1>A class is a template for creating objects in a program, whereas the object is an instance of a class.\n",
    "    An object is nothing but a self-contained component that consists of methods and properties to make a data useful. It helps to determines the behavior of the class."
   ]
  },
  {
   "cell_type": "code",
   "execution_count": 3,
   "id": "65c0126f-8dc2-4fa4-bf5a-db2ed1cc4750",
   "metadata": {},
   "outputs": [
    {
     "name": "stdout",
     "output_type": "stream",
     "text": [
      "Welcome to PW Skills \n"
     ]
    }
   ],
   "source": [
    "class pwskills :\n",
    "    def welcome(self):\n",
    "        print(\"Welcome to PW Skills \")\n",
    "rohan=pwskills()\n",
    "rohan.welcome()"
   ]
  },
  {
   "cell_type": "markdown",
   "id": "7a1c629a-a6d8-4723-9ed5-1d1f3aea19ff",
   "metadata": {},
   "source": [
    "Q2> The four pillars of OOP are  Polymorphism, Encapsulation and Abstraction."
   ]
  },
  {
   "cell_type": "markdown",
   "id": "68916200-180a-40ec-a8c4-cc59071b49f3",
   "metadata": {},
   "source": [
    "Q3> The __init__() function is used to assign values to object properties, or other operations that are necessary to do when the object is being created."
   ]
  },
  {
   "cell_type": "code",
   "execution_count": 4,
   "id": "2185ca7a-45f4-460a-948a-f2fcf325304a",
   "metadata": {},
   "outputs": [],
   "source": [
    "class test:\n",
    "    def __init__(self,a,b):\n",
    "        self.a=a\n",
    "        self.b=b\n",
    "t=test(45,56)"
   ]
  },
  {
   "cell_type": "code",
   "execution_count": 5,
   "id": "e553754f-f6d5-47b8-8a93-e161d0336cf9",
   "metadata": {},
   "outputs": [
    {
     "data": {
      "text/plain": [
       "45"
      ]
     },
     "execution_count": 5,
     "metadata": {},
     "output_type": "execute_result"
    }
   ],
   "source": [
    "t.a"
   ]
  },
  {
   "cell_type": "code",
   "execution_count": 6,
   "id": "ee40fb81-88bd-44b6-bd05-8a79c9cf80fc",
   "metadata": {},
   "outputs": [
    {
     "data": {
      "text/plain": [
       "56"
      ]
     },
     "execution_count": 6,
     "metadata": {},
     "output_type": "execute_result"
    }
   ],
   "source": [
    "t.b"
   ]
  },
  {
   "cell_type": "markdown",
   "id": "6c4c05ab-94a3-4a20-9909-5e0e8c85bc2d",
   "metadata": {},
   "source": [
    "Q4>The self variable is used to represent the instance of the class which is often used in object-oriented programming. It works as a reference to the object. Python uses the self parameter to refer to instance attributes and methods of the class."
   ]
  },
  {
   "cell_type": "markdown",
   "id": "d80d46e9-0b40-416c-a989-e50d4ff74c7c",
   "metadata": {},
   "source": [
    "Q5> Inheritance in OOP is used to reuse the codes of the parent class to that of the child class."
   ]
  },
  {
   "cell_type": "code",
   "execution_count": 7,
   "id": "ac79537a-07f6-4bb8-a2af-b555a98f5fb4",
   "metadata": {},
   "outputs": [],
   "source": [
    "class class1:\n",
    "    def testclass1(self):\n",
    "        print(\"This is class1\")\n",
    "class class2(class1):\n",
    "    def testclass2(self):\n",
    "        print(\"This is class2\")\n",
    "class class3(class2):\n",
    "    def testclass3(self):\n",
    "        print(\"This is class3\")"
   ]
  },
  {
   "cell_type": "code",
   "execution_count": 8,
   "id": "07c64fd3-1bc8-4da2-a062-c29d85e83621",
   "metadata": {},
   "outputs": [],
   "source": [
    "obj_class3 = class3()"
   ]
  },
  {
   "cell_type": "code",
   "execution_count": 9,
   "id": "c43f6227-26a1-4915-b3c9-543326bf69c1",
   "metadata": {},
   "outputs": [
    {
     "name": "stdout",
     "output_type": "stream",
     "text": [
      "This is class1\n"
     ]
    }
   ],
   "source": [
    "obj_class3.testclass1()"
   ]
  },
  {
   "cell_type": "code",
   "execution_count": 10,
   "id": "f596911a-b65e-4a78-8a09-d04a70079640",
   "metadata": {},
   "outputs": [],
   "source": [
    "class class1:\n",
    "    def testclass1(self):\n",
    "        print(\"This is class1\")\n",
    "class class2:\n",
    "    def testclass2(self):\n",
    "        print(\"This is class2\")\n",
    "class class3(class1,class2):\n",
    "    pass"
   ]
  },
  {
   "cell_type": "code",
   "execution_count": 11,
   "id": "0010d328-fe80-4942-9367-bb7d86dbea30",
   "metadata": {},
   "outputs": [],
   "source": [
    "cl3=class3()\n"
   ]
  },
  {
   "cell_type": "code",
   "execution_count": 12,
   "id": "44fff7ef-6d7e-418b-adeb-f13793561626",
   "metadata": {},
   "outputs": [
    {
     "name": "stdout",
     "output_type": "stream",
     "text": [
      "This is class1\n"
     ]
    }
   ],
   "source": [
    "cl3.testclass1()"
   ]
  },
  {
   "cell_type": "code",
   "execution_count": null,
   "id": "8393853d-6b1e-4bec-a3db-836c38879222",
   "metadata": {},
   "outputs": [],
   "source": []
  }
 ],
 "metadata": {
  "kernelspec": {
   "display_name": "Python 3 (ipykernel)",
   "language": "python",
   "name": "python3"
  },
  "language_info": {
   "codemirror_mode": {
    "name": "ipython",
    "version": 3
   },
   "file_extension": ".py",
   "mimetype": "text/x-python",
   "name": "python",
   "nbconvert_exporter": "python",
   "pygments_lexer": "ipython3",
   "version": "3.10.8"
  }
 },
 "nbformat": 4,
 "nbformat_minor": 5
}
