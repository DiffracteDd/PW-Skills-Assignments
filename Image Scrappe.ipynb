{
 "cells": [
  {
   "cell_type": "markdown",
   "id": "b9ff28f5-7fe5-4553-9da9-a26605b18eef",
   "metadata": {},
   "source": [
    "1> Web scraping is an automatic method to obtain large amounts of data from websites. Most of this data is unstructured data in an HTML format which is then converted into structured data in a spreadsheet or a database so that it can be used in various applications. \n",
    "\n",
    "    Analyzing social media web data. Applying machine learning techniques. Gathering web data automatically. Researching new concepts in a field"
   ]
  },
  {
   "cell_type": "markdown",
   "id": "fc19f859-cec4-4c05-862f-c01aafa7b061",
   "metadata": {},
   "source": [
    "2>  a)Human copy-and-paste\n",
    "    b)Text pattern matching\n",
    "    c)HTTP programming\n",
    "    d)HTML parsing\n",
    "    e)Semantic annotation recognizing"
   ]
  },
  {
   "cell_type": "markdown",
   "id": "bee6b67c-1bce-4731-8fda-2dab10c59e25",
   "metadata": {},
   "source": [
    "3> Beautiful Soup is a Python library for getting data out of HTML, XML, and other markup languages. \n",
    "\n",
    "    Beautiful Soup is used to decorate the html code into a human readable format."
   ]
  },
  {
   "cell_type": "markdown",
   "id": "37a76d5e-9d30-44de-8adb-9dd304e8d4c6",
   "metadata": {},
   "source": [
    "4> Flask is a lightweight framework to build websites. We'll use this to parse our collected data and display it as HTML in a new HTML file. "
   ]
  },
  {
   "cell_type": "code",
   "execution_count": null,
   "id": "417ca825-c26c-41be-93ae-63fb9d39f1b6",
   "metadata": {},
   "outputs": [],
   "source": []
  }
 ],
 "metadata": {
  "kernelspec": {
   "display_name": "Python 3 (ipykernel)",
   "language": "python",
   "name": "python3"
  },
  "language_info": {
   "codemirror_mode": {
    "name": "ipython",
    "version": 3
   },
   "file_extension": ".py",
   "mimetype": "text/x-python",
   "name": "python",
   "nbconvert_exporter": "python",
   "pygments_lexer": "ipython3",
   "version": "3.10.8"
  }
 },
 "nbformat": 4,
 "nbformat_minor": 5
}
