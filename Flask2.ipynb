{
 "cells": [
  {
   "cell_type": "markdown",
   "id": "8b2b2879-bc49-4c73-a955-190bc55fb939",
   "metadata": {},
   "source": [
    "1> Get and Post methods are the HTTP request methods used inside the form tag to send form data to the server. The GET method is used to submit the HTML form data. This data is collected by the predefined $_GET variable for processing.The information sent from an HTML form using the GET method is visible to everyone in the browser's address bar, which means that all the variable names and their values will be displayed in the URL. Therefore, the get method is not secured to send sensitive information.\n",
    "\n",
    "    Similar to the GET method, the POST method is also used to submit the HTML form data. But the data submitted by this method is collected by the predefined superglobal variable $_POST instead of $_GET.\n",
    "    Unlike the GET method, it does not have a limit on the amount of information to be sent. The information sent from an HTML form using the POST method is not visible to anyone."
   ]
  },
  {
   "cell_type": "markdown",
   "id": "ad220b70-e103-4ee5-ae6c-16b5162438ca",
   "metadata": {},
   "source": [
    "2> To access the incoming data in Flask, you have to use the request object. The request object holds all incoming data from the request, which includes the mimetype, referrer, IP address, raw data, HTTP method, and headers, among other things."
   ]
  },
  {
   "cell_type": "markdown",
   "id": "fcc9b99a-de07-4128-baa0-391742243974",
   "metadata": {},
   "source": [
    "3> Flask class has a redirect() function. When called, it returns a response object and redirects the user to another target location with specified status code. location parameter is the URL where response should be redirected."
   ]
  },
  {
   "cell_type": "markdown",
   "id": "33f2c3f6-e11c-47cc-8ffe-00dc8567f632",
   "metadata": {},
   "source": [
    "4> Templates are files that contain static data as well as placeholders for dynamic data. A template is rendered with specific data to produce a final document.\n",
    "\n",
    "    "
   ]
  }
 ],
 "metadata": {
  "kernelspec": {
   "display_name": "Python 3 (ipykernel)",
   "language": "python",
   "name": "python3"
  },
  "language_info": {
   "codemirror_mode": {
    "name": "ipython",
    "version": 3
   },
   "file_extension": ".py",
   "mimetype": "text/x-python",
   "name": "python",
   "nbconvert_exporter": "python",
   "pygments_lexer": "ipython3",
   "version": "3.10.8"
  }
 },
 "nbformat": 4,
 "nbformat_minor": 5
}
